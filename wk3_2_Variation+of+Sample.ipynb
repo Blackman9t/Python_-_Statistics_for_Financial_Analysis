{
  "nbformat": 4,
  "nbformat_minor": 0,
  "metadata": {
    "colab": {
      "name": "wk3.2.Variation+of+Sample.ipynb",
      "version": "0.3.2",
      "provenance": [],
      "include_colab_link": true
    },
    "language_info": {
      "codemirror_mode": {
        "name": "ipython",
        "version": 3
      },
      "file_extension": ".py",
      "mimetype": "text/x-python",
      "name": "python",
      "nbconvert_exporter": "python",
      "pygments_lexer": "ipython3",
      "version": "3.6.2"
    },
    "kernelspec": {
      "display_name": "Python 3",
      "language": "python",
      "name": "python3"
    }
  },
  "cells": [
    {
      "cell_type": "markdown",
      "metadata": {
        "id": "view-in-github",
        "colab_type": "text"
      },
      "source": [
        "<a href=\"https://colab.research.google.com/github/Blackman9t/Python_-_Statistics_for_Financial_Analysis/blob/master/wk3_2_Variation%2Bof%2BSample.ipynb\" target=\"_parent\"><img src=\"https://colab.research.google.com/assets/colab-badge.svg\" alt=\"Open In Colab\"/></a>"
      ]
    },
    {
      "cell_type": "markdown",
      "metadata": {
        "id": "C5KPkdWwhhPU",
        "colab_type": "text"
      },
      "source": [
        "# Variation of Sample"
      ]
    },
    {
      "cell_type": "code",
      "metadata": {
        "id": "NhmZiPYrhhPW",
        "colab_type": "code",
        "colab": {}
      },
      "source": [
        "import pandas as pd\n",
        "import numpy as np\n",
        "from scipy.stats import norm\n",
        "%matplotlib inline"
      ],
      "execution_count": 0,
      "outputs": []
    },
    {
      "cell_type": "code",
      "metadata": {
        "id": "JGG1BBo7hhPb",
        "colab_type": "code",
        "outputId": "5e0e3957-be76-41a0-e1c6-730fc84b6ce9",
        "colab": {
          "base_uri": "https://localhost:8080/",
          "height": 50
        }
      },
      "source": [
        "# Sample mean and SD keep changing, but always within a certain range\n",
        "Fstsample = pd.DataFrame(np.random.normal(10, 5, size=30))\n",
        "print('sample mean is ', Fstsample[0].mean())\n",
        "print('sample SD is ', Fstsample[0].std(ddof=1))"
      ],
      "execution_count": 0,
      "outputs": [
        {
          "output_type": "stream",
          "text": [
            "sample mean is  10.764306221796414\n",
            "sample SD is  4.529919664317797\n"
          ],
          "name": "stdout"
        }
      ]
    },
    {
      "cell_type": "code",
      "metadata": {
        "id": "fc82DAhHhsV1",
        "colab_type": "code",
        "outputId": "375ff76a-cb75-4082-8acc-3c78feeee71b",
        "colab": {
          "base_uri": "https://localhost:8080/",
          "height": 195
        }
      },
      "source": [
        "Fstsample.head()"
      ],
      "execution_count": 0,
      "outputs": [
        {
          "output_type": "execute_result",
          "data": {
            "text/html": [
              "<div>\n",
              "<style scoped>\n",
              "    .dataframe tbody tr th:only-of-type {\n",
              "        vertical-align: middle;\n",
              "    }\n",
              "\n",
              "    .dataframe tbody tr th {\n",
              "        vertical-align: top;\n",
              "    }\n",
              "\n",
              "    .dataframe thead th {\n",
              "        text-align: right;\n",
              "    }\n",
              "</style>\n",
              "<table border=\"1\" class=\"dataframe\">\n",
              "  <thead>\n",
              "    <tr style=\"text-align: right;\">\n",
              "      <th></th>\n",
              "      <th>0</th>\n",
              "    </tr>\n",
              "  </thead>\n",
              "  <tbody>\n",
              "    <tr>\n",
              "      <th>0</th>\n",
              "      <td>6.405631</td>\n",
              "    </tr>\n",
              "    <tr>\n",
              "      <th>1</th>\n",
              "      <td>12.159439</td>\n",
              "    </tr>\n",
              "    <tr>\n",
              "      <th>2</th>\n",
              "      <td>5.793769</td>\n",
              "    </tr>\n",
              "    <tr>\n",
              "      <th>3</th>\n",
              "      <td>5.732145</td>\n",
              "    </tr>\n",
              "    <tr>\n",
              "      <th>4</th>\n",
              "      <td>-1.631097</td>\n",
              "    </tr>\n",
              "  </tbody>\n",
              "</table>\n",
              "</div>"
            ],
            "text/plain": [
              "           0\n",
              "0   6.405631\n",
              "1  12.159439\n",
              "2   5.793769\n",
              "3   5.732145\n",
              "4  -1.631097"
            ]
          },
          "metadata": {
            "tags": []
          },
          "execution_count": 7
        }
      ]
    },
    {
      "cell_type": "markdown",
      "metadata": {
        "id": "l5Fd37MrhhPh",
        "colab_type": "text"
      },
      "source": [
        "## Empirical Distribution of mean"
      ]
    },
    {
      "cell_type": "code",
      "metadata": {
        "id": "A0gG0mfThhPi",
        "colab_type": "code",
        "colab": {}
      },
      "source": [
        "meanlist = []\n",
        "for t in range(10000):\n",
        "    sample = pd.DataFrame(np.random.normal(10, 5, size=30))\n",
        "    meanlist.append(sample[0].mean())"
      ],
      "execution_count": 0,
      "outputs": []
    },
    {
      "cell_type": "code",
      "metadata": {
        "id": "d9TPsIR-hhPl",
        "colab_type": "code",
        "colab": {}
      },
      "source": [
        "collection = pd.DataFrame()\n",
        "collection['meanlist'] = meanlist"
      ],
      "execution_count": 0,
      "outputs": []
    },
    {
      "cell_type": "code",
      "metadata": {
        "id": "YIpMSDgGhhPo",
        "colab_type": "code",
        "outputId": "13c71662-ee50-4cf1-8ebb-caab495cdb52",
        "colab": {
          "base_uri": "https://localhost:8080/",
          "height": 553
        }
      },
      "source": [
        "collection['meanlist'].hist(bins=100, normed=1,figsize=(15,8))"
      ],
      "execution_count": 0,
      "outputs": [
        {
          "output_type": "stream",
          "text": [
            "/usr/local/lib/python3.6/dist-packages/matplotlib/axes/_axes.py:6521: MatplotlibDeprecationWarning: \n",
            "The 'normed' kwarg was deprecated in Matplotlib 2.1 and will be removed in 3.1. Use 'density' instead.\n",
            "  alternative=\"'density'\", removal=\"3.1\")\n"
          ],
          "name": "stderr"
        },
        {
          "output_type": "execute_result",
          "data": {
            "text/plain": [
              "<matplotlib.axes._subplots.AxesSubplot at 0x7fd04f9227f0>"
            ]
          },
          "metadata": {
            "tags": []
          },
          "execution_count": 10
        },
        {
          "output_type": "display_data",
          "data": {
            "image/png": "[encoded data removed]",
            "text/plain": [
              "<Figure size 1080x576 with 1 Axes>"
            ]
          },
          "metadata": {
            "tags": []
          }
        }
      ]
    },
    {
      "cell_type": "markdown",
      "metadata": {
        "id": "dfaTxcF3hhPt",
        "colab_type": "text"
      },
      "source": [
        "## Sampling from arbritary distribution"
      ]
    },
    {
      "cell_type": "code",
      "metadata": {
        "id": "tEcODLGThhPt",
        "colab_type": "code",
        "outputId": "a9fe11f6-a08e-430e-b058-0f669e7da503",
        "colab": {}
      },
      "source": [
        "# See what central limit theorem tells you...the sample size is larger enough, \n",
        "# the distribution of sample mean is approximately normal\n",
        "# apop is not normal, but try to change the sample size from 100 to a larger number. The distribution of sample mean of apop \n",
        "# becomes normal.\n",
        "sample_size = 100\n",
        "samplemeanlist = []\n",
        "apop =  pd.DataFrame([1, 0, 1, 0, 1])\n",
        "for t in range(10000):\n",
        "    sample = apop[0].sample(sample_size, replace=True)  # small sample size\n",
        "    samplemeanlist.append(sample.mean())\n",
        "\n",
        "acollec = pd.DataFrame()\n",
        "acollec['meanlist'] = samplemeanlist\n",
        "acollec.hist(bins=100, normed=1,figsize=(15,8))"
      ],
      "execution_count": 0,
      "outputs": [
        {
          "output_type": "execute_result",
          "data": {
            "text/plain": [
              "array([[<matplotlib.axes._subplots.AxesSubplot object at 0x7f188f4bc898>]], dtype=object)"
            ]
          },
          "metadata": {
            "tags": []
          },
          "execution_count": 16
        },
        {
          "output_type": "display_data",
          "data": {
            "image/png": "[encoded data removed]",
            "text/plain": [
              "<matplotlib.figure.Figure at 0x7f188f526da0>"
            ]
          },
          "metadata": {
            "tags": []
          }
        }
      ]
    }
  ]
}