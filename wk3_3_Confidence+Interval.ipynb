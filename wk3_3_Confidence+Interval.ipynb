{
  "nbformat": 4,
  "nbformat_minor": 0,
  "metadata": {
    "colab": {
      "name": "wk3.3.Confidence+Interval.ipynb",
      "version": "0.3.2",
      "provenance": [],
      "include_colab_link": true
    },
    "language_info": {
      "codemirror_mode": {
        "name": "ipython",
        "version": 3
      },
      "file_extension": ".py",
      "mimetype": "text/x-python",
      "name": "python",
      "nbconvert_exporter": "python",
      "pygments_lexer": "ipython3",
      "version": "3.6.2"
    },
    "kernelspec": {
      "display_name": "Python 3",
      "language": "python",
      "name": "python3"
    }
  },
  "cells": [
    {
      "cell_type": "markdown",
      "metadata": {
        "id": "view-in-github",
        "colab_type": "text"
      },
      "source": [
        "<a href=\"https://colab.research.google.com/github/Blackman9t/Python_-_Statistics_for_Financial_Analysis/blob/master/wk3_3_Confidence%2BInterval.ipynb\" target=\"_parent\"><img src=\"https://colab.research.google.com/assets/colab-badge.svg\" alt=\"Open In Colab\"/></a>"
      ]
    },
    {
      "cell_type": "markdown",
      "metadata": {
        "id": "uPMpDggsBl7g",
        "colab_type": "text"
      },
      "source": [
        "# Confidence Interval"
      ]
    },
    {
      "cell_type": "code",
      "metadata": {
        "id": "tNRHz7WPBl7i",
        "colab_type": "code",
        "colab": {}
      },
      "source": [
        "import pandas as pd\n",
        "import numpy as np\n",
        "from scipy.stats import norm"
      ],
      "execution_count": 0,
      "outputs": []
    },
    {
      "cell_type": "code",
      "metadata": {
        "id": "HrHkNEecBl7m",
        "colab_type": "code",
        "outputId": "28fe2dd9-f962-4e29-ae5c-f4e5a1512cbc",
        "colab": {
          "base_uri": "https://localhost:8080/",
          "height": 278
        }
      },
      "source": [
        "ms = pd.DataFrame.from_csv('https://raw.githubusercontent.com/Blackman9t/Python_-_Statistics_for_Financial_Analysis/master/microsoft.csv')\n",
        "ms.head()"
      ],
      "execution_count": 4,
      "outputs": [
        {
          "output_type": "stream",
          "text": [
            "/usr/local/lib/python3.6/dist-packages/ipykernel_launcher.py:1: FutureWarning: from_csv is deprecated. Please use read_csv(...) instead. Note that some of the default arguments are different, so please refer to the documentation for from_csv when changing your function calls\n",
            "  \"\"\"Entry point for launching an IPython kernel.\n"
          ],
          "name": "stderr"
        },
        {
          "output_type": "execute_result",
          "data": {
            "text/html": [
              "<div>\n",
              "<style scoped>\n",
              "    .dataframe tbody tr th:only-of-type {\n",
              "        vertical-align: middle;\n",
              "    }\n",
              "\n",
              "    .dataframe tbody tr th {\n",
              "        vertical-align: top;\n",
              "    }\n",
              "\n",
              "    .dataframe thead th {\n",
              "        text-align: right;\n",
              "    }\n",
              "</style>\n",
              "<table border=\"1\" class=\"dataframe\">\n",
              "  <thead>\n",
              "    <tr style=\"text-align: right;\">\n",
              "      <th></th>\n",
              "      <th>Open</th>\n",
              "      <th>High</th>\n",
              "      <th>Low</th>\n",
              "      <th>Close</th>\n",
              "      <th>Adj Close</th>\n",
              "      <th>Volume</th>\n",
              "    </tr>\n",
              "    <tr>\n",
              "      <th>Date</th>\n",
              "      <th></th>\n",
              "      <th></th>\n",
              "      <th></th>\n",
              "      <th></th>\n",
              "      <th></th>\n",
              "      <th></th>\n",
              "    </tr>\n",
              "  </thead>\n",
              "  <tbody>\n",
              "    <tr>\n",
              "      <th>2014-12-31</th>\n",
              "      <td>46.730000</td>\n",
              "      <td>47.439999</td>\n",
              "      <td>46.450001</td>\n",
              "      <td>46.450001</td>\n",
              "      <td>42.848763</td>\n",
              "      <td>21552500</td>\n",
              "    </tr>\n",
              "    <tr>\n",
              "      <th>2015-01-02</th>\n",
              "      <td>46.660000</td>\n",
              "      <td>47.419998</td>\n",
              "      <td>46.540001</td>\n",
              "      <td>46.759998</td>\n",
              "      <td>43.134731</td>\n",
              "      <td>27913900</td>\n",
              "    </tr>\n",
              "    <tr>\n",
              "      <th>2015-01-05</th>\n",
              "      <td>46.369999</td>\n",
              "      <td>46.730000</td>\n",
              "      <td>46.250000</td>\n",
              "      <td>46.330002</td>\n",
              "      <td>42.738068</td>\n",
              "      <td>39673900</td>\n",
              "    </tr>\n",
              "    <tr>\n",
              "      <th>2015-01-06</th>\n",
              "      <td>46.380001</td>\n",
              "      <td>46.750000</td>\n",
              "      <td>45.540001</td>\n",
              "      <td>45.650002</td>\n",
              "      <td>42.110783</td>\n",
              "      <td>36447900</td>\n",
              "    </tr>\n",
              "    <tr>\n",
              "      <th>2015-01-07</th>\n",
              "      <td>45.980000</td>\n",
              "      <td>46.459999</td>\n",
              "      <td>45.490002</td>\n",
              "      <td>46.230000</td>\n",
              "      <td>42.645817</td>\n",
              "      <td>29114100</td>\n",
              "    </tr>\n",
              "  </tbody>\n",
              "</table>\n",
              "</div>"
            ],
            "text/plain": [
              "                 Open       High        Low      Close  Adj Close    Volume\n",
              "Date                                                                       \n",
              "2014-12-31  46.730000  47.439999  46.450001  46.450001  42.848763  21552500\n",
              "2015-01-02  46.660000  47.419998  46.540001  46.759998  43.134731  27913900\n",
              "2015-01-05  46.369999  46.730000  46.250000  46.330002  42.738068  39673900\n",
              "2015-01-06  46.380001  46.750000  45.540001  45.650002  42.110783  36447900\n",
              "2015-01-07  45.980000  46.459999  45.490002  46.230000  42.645817  29114100"
            ]
          },
          "metadata": {
            "tags": []
          },
          "execution_count": 4
        }
      ]
    },
    {
      "cell_type": "markdown",
      "metadata": {
        "id": "s3vDJdGxBl7q",
        "colab_type": "text"
      },
      "source": [
        "## Estimate the average stock return with 90% Confidence Interval"
      ]
    },
    {
      "cell_type": "code",
      "metadata": {
        "id": "U9Omh73PBl7r",
        "colab_type": "code",
        "colab": {}
      },
      "source": [
        "# we will use log return for average stock return of Microsoft\n",
        "\n",
        "ms['logReturn'] = np.log(ms['Close'].shift(-1)) - np.log(ms['Close'])"
      ],
      "execution_count": 0,
      "outputs": []
    },
    {
      "cell_type": "code",
      "metadata": {
        "id": "OvE5ykPLExcr",
        "colab_type": "code",
        "colab": {
          "base_uri": "https://localhost:8080/",
          "height": 225
        },
        "outputId": "87ca2fa2-1167-44fd-e1fa-3466694ab140"
      },
      "source": [
        "ms.tail()"
      ],
      "execution_count": 7,
      "outputs": [
        {
          "output_type": "execute_result",
          "data": {
            "text/html": [
              "<div>\n",
              "<style scoped>\n",
              "    .dataframe tbody tr th:only-of-type {\n",
              "        vertical-align: middle;\n",
              "    }\n",
              "\n",
              "    .dataframe tbody tr th {\n",
              "        vertical-align: top;\n",
              "    }\n",
              "\n",
              "    .dataframe thead th {\n",
              "        text-align: right;\n",
              "    }\n",
              "</style>\n",
              "<table border=\"1\" class=\"dataframe\">\n",
              "  <thead>\n",
              "    <tr style=\"text-align: right;\">\n",
              "      <th></th>\n",
              "      <th>Open</th>\n",
              "      <th>High</th>\n",
              "      <th>Low</th>\n",
              "      <th>Close</th>\n",
              "      <th>Adj Close</th>\n",
              "      <th>Volume</th>\n",
              "      <th>logReturn</th>\n",
              "    </tr>\n",
              "    <tr>\n",
              "      <th>Date</th>\n",
              "      <th></th>\n",
              "      <th></th>\n",
              "      <th></th>\n",
              "      <th></th>\n",
              "      <th></th>\n",
              "      <th></th>\n",
              "      <th></th>\n",
              "    </tr>\n",
              "  </thead>\n",
              "  <tbody>\n",
              "    <tr>\n",
              "      <th>2018-01-30</th>\n",
              "      <td>93.300003</td>\n",
              "      <td>93.660004</td>\n",
              "      <td>92.099998</td>\n",
              "      <td>92.739998</td>\n",
              "      <td>92.306389</td>\n",
              "      <td>38635100</td>\n",
              "      <td>0.024182</td>\n",
              "    </tr>\n",
              "    <tr>\n",
              "      <th>2018-01-31</th>\n",
              "      <td>93.750000</td>\n",
              "      <td>95.400002</td>\n",
              "      <td>93.510002</td>\n",
              "      <td>95.010002</td>\n",
              "      <td>94.565781</td>\n",
              "      <td>48756300</td>\n",
              "      <td>-0.007925</td>\n",
              "    </tr>\n",
              "    <tr>\n",
              "      <th>2018-02-01</th>\n",
              "      <td>94.790001</td>\n",
              "      <td>96.070000</td>\n",
              "      <td>93.580002</td>\n",
              "      <td>94.260002</td>\n",
              "      <td>93.819290</td>\n",
              "      <td>47227900</td>\n",
              "      <td>-0.026663</td>\n",
              "    </tr>\n",
              "    <tr>\n",
              "      <th>2018-02-02</th>\n",
              "      <td>93.639999</td>\n",
              "      <td>93.970001</td>\n",
              "      <td>91.500000</td>\n",
              "      <td>91.779999</td>\n",
              "      <td>91.350883</td>\n",
              "      <td>47867800</td>\n",
              "      <td>-0.042058</td>\n",
              "    </tr>\n",
              "    <tr>\n",
              "      <th>2018-02-05</th>\n",
              "      <td>90.559998</td>\n",
              "      <td>93.239998</td>\n",
              "      <td>88.000000</td>\n",
              "      <td>88.000000</td>\n",
              "      <td>87.588554</td>\n",
              "      <td>51031500</td>\n",
              "      <td>NaN</td>\n",
              "    </tr>\n",
              "  </tbody>\n",
              "</table>\n",
              "</div>"
            ],
            "text/plain": [
              "                 Open       High        Low  ...  Adj Close    Volume  logReturn\n",
              "Date                                         ...                                \n",
              "2018-01-30  93.300003  93.660004  92.099998  ...  92.306389  38635100   0.024182\n",
              "2018-01-31  93.750000  95.400002  93.510002  ...  94.565781  48756300  -0.007925\n",
              "2018-02-01  94.790001  96.070000  93.580002  ...  93.819290  47227900  -0.026663\n",
              "2018-02-02  93.639999  93.970001  91.500000  ...  91.350883  47867800  -0.042058\n",
              "2018-02-05  90.559998  93.239998  88.000000  ...  87.588554  51031500        NaN\n",
              "\n",
              "[5 rows x 7 columns]"
            ]
          },
          "metadata": {
            "tags": []
          },
          "execution_count": 7
        }
      ]
    },
    {
      "cell_type": "code",
      "metadata": {
        "id": "nDbuYAf7Bl7u",
        "colab_type": "code",
        "colab": {}
      },
      "source": [
        "# Lets build 90% confidence interval for log return\n",
        "sample_size = ms['logReturn'].shape[0]\n",
        "sample_mean = ms['logReturn'].mean()\n",
        "sample_std = ms['logReturn'].std(ddof=1) / sample_size**0.5\n",
        "\n",
        "# left and right quantile\n",
        "z_left = norm.ppf(0.0)\n",
        "z_right = norm.ppf(0.9)\n",
        "\n",
        "# upper and lower bound\n",
        "interval_left = sample_mean + z_left * sample_std\n",
        "interval_right = sample_mean + z_right * sample_std"
      ],
      "execution_count": 0,
      "outputs": []
    },
    {
      "cell_type": "code",
      "metadata": {
        "id": "Yz4VIGKPBl7w",
        "colab_type": "code",
        "outputId": "ed6c389e-ed9a-447d-afcb-9c52cd1a21f5",
        "colab": {
          "base_uri": "https://localhost:8080/",
          "height": 50
        }
      },
      "source": [
        "# 90% confidence interval tells you that there will be 90% chance that the average stock return lies between \"interval_left\"\n",
        "# and \"interval_right\".\n",
        "\n",
        "print('Sample Mean is ', (sample_mean))\n",
        "print('90% confidence interval is ', (interval_left, interval_right))"
      ],
      "execution_count": 26,
      "outputs": [
        {
          "output_type": "stream",
          "text": [
            "Sample Mean is  0.0008202314861230223\n",
            "90% confidence interval is  (-inf, 0.0014714537602882566)\n"
          ],
          "name": "stdout"
        }
      ]
    },
    {
      "cell_type": "markdown",
      "metadata": {
        "id": "xTt_NpNsBl70",
        "colab_type": "text"
      },
      "source": [
        "** Expected output: ** 90% confidence interval is  (-1.5603253899378836e-05, 0.001656066226145423)"
      ]
    }
  ]
}