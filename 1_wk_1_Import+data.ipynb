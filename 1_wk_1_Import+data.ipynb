{
  "nbformat": 4,
  "nbformat_minor": 0,
  "metadata": {
    "colab": {
      "name": "1_wk_1_Import+data.ipynb",
      "version": "0.3.2",
      "provenance": [],
      "collapsed_sections": [],
      "include_colab_link": true
    },
    "language_info": {
      "codemirror_mode": {
        "name": "ipython",
        "version": 3
      },
      "file_extension": ".py",
      "mimetype": "text/x-python",
      "name": "python",
      "nbconvert_exporter": "python",
      "pygments_lexer": "ipython3",
      "version": "3.6.2"
    },
    "kernelspec": {
      "display_name": "Python 3",
      "language": "python",
      "name": "python3"
    }
  },
  "cells": [
    {
      "cell_type": "markdown",
      "metadata": {
        "id": "view-in-github",
        "colab_type": "text"
      },
      "source": [
        "<a href=\"https://colab.research.google.com/github/Blackman9t/Python_-_Statistics_for_Financial_Analysis/blob/master/1_wk_1_Import%2Bdata.ipynb\" target=\"_parent\"><img src=\"https://colab.research.google.com/assets/colab-badge.svg\" alt=\"Open In Colab\"/></a>"
      ]
    },
    {
      "cell_type": "markdown",
      "metadata": {
        "id": "qmY-DqZypLyc",
        "colab_type": "text"
      },
      "source": [
        "# Import data\n",
        "In this Jupyter Notebook, you will learn how to import data from CSV into Jupyter Notebook"
      ]
    },
    {
      "cell_type": "code",
      "metadata": {
        "id": "Jvot4gNNpLyd",
        "colab_type": "code",
        "colab": {}
      },
      "source": [
        "#import the package \"Pandas\" into Jupyter Notebook\n",
        "import pandas as pd"
      ],
      "execution_count": 0,
      "outputs": []
    },
    {
      "cell_type": "markdown",
      "metadata": {
        "id": "OZJu6ewIpYNh",
        "colab_type": "text"
      },
      "source": [
        "Let's mount gdrive"
      ]
    },
    {
      "cell_type": "code",
      "metadata": {
        "id": "TpyvKD_5pbgQ",
        "colab_type": "code",
        "outputId": "a0b0d5f9-5ff2-45b8-c73d-bc4fc9a5deab",
        "colab": {
          "base_uri": "https://localhost:8080/",
          "height": 34
        }
      },
      "source": [
        "from google.colab import drive\n",
        "drive.mount('/content/gdrive')"
      ],
      "execution_count": 0,
      "outputs": [
        {
          "output_type": "stream",
          "text": [
            "Drive already mounted at /content/gdrive; to attempt to forcibly remount, call drive.mount(\"/content/gdrive\", force_remount=True).\n"
          ],
          "name": "stdout"
        }
      ]
    },
    {
      "cell_type": "code",
      "metadata": {
        "id": "FilgdioZpLyj",
        "colab_type": "code",
        "outputId": "d21f8e06-9e8d-43e8-e434-0947cfa29f32",
        "colab": {
          "base_uri": "https://localhost:8080/",
          "height": 70
        }
      },
      "source": [
        "#We import the stock data of Facebook into Jupyter Notebook. The CSV file is located in the folder called \"Data\" in your Workspace\n",
        "#We then name the DataFrame name as 'fb'\n",
        "fb = pd.DataFrame.from_csv('/content/gdrive/My Drive/Colab_Notebooks/python_and_statistics_for_financial_analysis/data/facebook.csv')"
      ],
      "execution_count": 0,
      "outputs": [
        {
          "output_type": "stream",
          "text": [
            "/usr/local/lib/python3.6/dist-packages/ipykernel_launcher.py:1: FutureWarning: from_csv is deprecated. Please use read_csv(...) instead. Note that some of the default arguments are different, so please refer to the documentation for from_csv when changing your function calls\n",
            "  \"\"\"Entry point for launching an IPython kernel.\n"
          ],
          "name": "stderr"
        }
      ]
    },
    {
      "cell_type": "code",
      "metadata": {
        "id": "oHkl_iSMp7he",
        "colab_type": "code",
        "outputId": "ab1a7232-60ea-4a7b-a17f-71a5f8c44ab2",
        "colab": {
          "base_uri": "https://localhost:8080/",
          "height": 225
        }
      },
      "source": [
        "fb.head()"
      ],
      "execution_count": 0,
      "outputs": [
        {
          "output_type": "execute_result",
          "data": {
            "text/html": [
              "<div>\n",
              "<style scoped>\n",
              "    .dataframe tbody tr th:only-of-type {\n",
              "        vertical-align: middle;\n",
              "    }\n",
              "\n",
              "    .dataframe tbody tr th {\n",
              "        vertical-align: top;\n",
              "    }\n",
              "\n",
              "    .dataframe thead th {\n",
              "        text-align: right;\n",
              "    }\n",
              "</style>\n",
              "<table border=\"1\" class=\"dataframe\">\n",
              "  <thead>\n",
              "    <tr style=\"text-align: right;\">\n",
              "      <th></th>\n",
              "      <th>Open</th>\n",
              "      <th>High</th>\n",
              "      <th>Low</th>\n",
              "      <th>Close</th>\n",
              "      <th>Adj Close</th>\n",
              "      <th>Volume</th>\n",
              "    </tr>\n",
              "    <tr>\n",
              "      <th>Date</th>\n",
              "      <th></th>\n",
              "      <th></th>\n",
              "      <th></th>\n",
              "      <th></th>\n",
              "      <th></th>\n",
              "      <th></th>\n",
              "    </tr>\n",
              "  </thead>\n",
              "  <tbody>\n",
              "    <tr>\n",
              "      <th>2014-12-31</th>\n",
              "      <td>20.400000</td>\n",
              "      <td>20.510000</td>\n",
              "      <td>19.990000</td>\n",
              "      <td>20.049999</td>\n",
              "      <td>19.459270</td>\n",
              "      <td>4157500</td>\n",
              "    </tr>\n",
              "    <tr>\n",
              "      <th>2015-01-02</th>\n",
              "      <td>20.129999</td>\n",
              "      <td>20.280001</td>\n",
              "      <td>19.809999</td>\n",
              "      <td>20.129999</td>\n",
              "      <td>19.536913</td>\n",
              "      <td>2842000</td>\n",
              "    </tr>\n",
              "    <tr>\n",
              "      <th>2015-01-05</th>\n",
              "      <td>20.129999</td>\n",
              "      <td>20.190001</td>\n",
              "      <td>19.700001</td>\n",
              "      <td>19.790001</td>\n",
              "      <td>19.206934</td>\n",
              "      <td>4948800</td>\n",
              "    </tr>\n",
              "    <tr>\n",
              "      <th>2015-01-06</th>\n",
              "      <td>19.820000</td>\n",
              "      <td>19.840000</td>\n",
              "      <td>19.170000</td>\n",
              "      <td>19.190001</td>\n",
              "      <td>18.624611</td>\n",
              "      <td>4944100</td>\n",
              "    </tr>\n",
              "    <tr>\n",
              "      <th>2015-01-07</th>\n",
              "      <td>19.330000</td>\n",
              "      <td>19.500000</td>\n",
              "      <td>19.080000</td>\n",
              "      <td>19.139999</td>\n",
              "      <td>18.576082</td>\n",
              "      <td>8045200</td>\n",
              "    </tr>\n",
              "  </tbody>\n",
              "</table>\n",
              "</div>"
            ],
            "text/plain": [
              "                 Open       High        Low      Close  Adj Close   Volume\n",
              "Date                                                                      \n",
              "2014-12-31  20.400000  20.510000  19.990000  20.049999  19.459270  4157500\n",
              "2015-01-02  20.129999  20.280001  19.809999  20.129999  19.536913  2842000\n",
              "2015-01-05  20.129999  20.190001  19.700001  19.790001  19.206934  4948800\n",
              "2015-01-06  19.820000  19.840000  19.170000  19.190001  18.624611  4944100\n",
              "2015-01-07  19.330000  19.500000  19.080000  19.139999  18.576082  8045200"
            ]
          },
          "metadata": {
            "tags": []
          },
          "execution_count": 4
        }
      ]
    },
    {
      "cell_type": "markdown",
      "metadata": {
        "id": "owqnOYHIuPcK",
        "colab_type": "text"
      },
      "source": [
        "## About The Data\n",
        "\n",
        "**Index**: The index is the date for each observation.<br>\n",
        "**Open**: Is the opening price for this day.<br>\n",
        "**High**:  Is the highest price for this day<br>\n",
        "**Low**:  Is the lowest price for this day<br>\n",
        "**Close**:  Is the closing price for this day<br>\n",
        "**Adjust Close**:  Is a stock closing price on a given day of trading that has been adjusted  to include:<br>\n",
        "Any dispution and the corporate actions that occurred at any time before the next day's open.<br>\n",
        "**Volume**:  Is the amount of trade that occurred in a given date.<br>"
      ]
    },
    {
      "cell_type": "markdown",
      "metadata": {
        "id": "RDUtozWKpLyo",
        "colab_type": "text"
      },
      "source": [
        "### Instruction\n",
        "Now is your turn to import the stock price of Microsoft (microsoft.csv), of which the CSV is located in the same folder, and rename the Dataframe in \"ms\". "
      ]
    },
    {
      "cell_type": "code",
      "metadata": {
        "id": "WbdjP5wipLyp",
        "colab_type": "code",
        "outputId": "cc0a32ea-16c3-4896-e119-9b6244063deb",
        "colab": {
          "base_uri": "https://localhost:8080/",
          "height": 70
        }
      },
      "source": [
        "ms = pd.DataFrame.from_csv('/content/gdrive/My Drive/Colab_Notebooks/python_and_statistics_for_financial_analysis/data/microsoft.csv')"
      ],
      "execution_count": 0,
      "outputs": [
        {
          "output_type": "stream",
          "text": [
            "/usr/local/lib/python3.6/dist-packages/ipykernel_launcher.py:1: FutureWarning: from_csv is deprecated. Please use read_csv(...) instead. Note that some of the default arguments are different, so please refer to the documentation for from_csv when changing your function calls\n",
            "  \"\"\"Entry point for launching an IPython kernel.\n"
          ],
          "name": "stderr"
        }
      ]
    },
    {
      "cell_type": "code",
      "metadata": {
        "id": "vuS3Y4Fmqfij",
        "colab_type": "code",
        "outputId": "7f41da92-8b4a-44ed-ce8d-765867f0adc7",
        "colab": {
          "base_uri": "https://localhost:8080/",
          "height": 225
        }
      },
      "source": [
        "ms.head()"
      ],
      "execution_count": 0,
      "outputs": [
        {
          "output_type": "execute_result",
          "data": {
            "text/html": [
              "<div>\n",
              "<style scoped>\n",
              "    .dataframe tbody tr th:only-of-type {\n",
              "        vertical-align: middle;\n",
              "    }\n",
              "\n",
              "    .dataframe tbody tr th {\n",
              "        vertical-align: top;\n",
              "    }\n",
              "\n",
              "    .dataframe thead th {\n",
              "        text-align: right;\n",
              "    }\n",
              "</style>\n",
              "<table border=\"1\" class=\"dataframe\">\n",
              "  <thead>\n",
              "    <tr style=\"text-align: right;\">\n",
              "      <th></th>\n",
              "      <th>Open</th>\n",
              "      <th>High</th>\n",
              "      <th>Low</th>\n",
              "      <th>Close</th>\n",
              "      <th>Adj Close</th>\n",
              "      <th>Volume</th>\n",
              "    </tr>\n",
              "    <tr>\n",
              "      <th>Date</th>\n",
              "      <th></th>\n",
              "      <th></th>\n",
              "      <th></th>\n",
              "      <th></th>\n",
              "      <th></th>\n",
              "      <th></th>\n",
              "    </tr>\n",
              "  </thead>\n",
              "  <tbody>\n",
              "    <tr>\n",
              "      <th>2014-12-31</th>\n",
              "      <td>46.730000</td>\n",
              "      <td>47.439999</td>\n",
              "      <td>46.450001</td>\n",
              "      <td>46.450001</td>\n",
              "      <td>42.848763</td>\n",
              "      <td>21552500</td>\n",
              "    </tr>\n",
              "    <tr>\n",
              "      <th>2015-01-02</th>\n",
              "      <td>46.660000</td>\n",
              "      <td>47.419998</td>\n",
              "      <td>46.540001</td>\n",
              "      <td>46.759998</td>\n",
              "      <td>43.134731</td>\n",
              "      <td>27913900</td>\n",
              "    </tr>\n",
              "    <tr>\n",
              "      <th>2015-01-05</th>\n",
              "      <td>46.369999</td>\n",
              "      <td>46.730000</td>\n",
              "      <td>46.250000</td>\n",
              "      <td>46.330002</td>\n",
              "      <td>42.738068</td>\n",
              "      <td>39673900</td>\n",
              "    </tr>\n",
              "    <tr>\n",
              "      <th>2015-01-06</th>\n",
              "      <td>46.380001</td>\n",
              "      <td>46.750000</td>\n",
              "      <td>45.540001</td>\n",
              "      <td>45.650002</td>\n",
              "      <td>42.110783</td>\n",
              "      <td>36447900</td>\n",
              "    </tr>\n",
              "    <tr>\n",
              "      <th>2015-01-07</th>\n",
              "      <td>45.980000</td>\n",
              "      <td>46.459999</td>\n",
              "      <td>45.490002</td>\n",
              "      <td>46.230000</td>\n",
              "      <td>42.645817</td>\n",
              "      <td>29114100</td>\n",
              "    </tr>\n",
              "  </tbody>\n",
              "</table>\n",
              "</div>"
            ],
            "text/plain": [
              "                 Open       High        Low      Close  Adj Close    Volume\n",
              "Date                                                                       \n",
              "2014-12-31  46.730000  47.439999  46.450001  46.450001  42.848763  21552500\n",
              "2015-01-02  46.660000  47.419998  46.540001  46.759998  43.134731  27913900\n",
              "2015-01-05  46.369999  46.730000  46.250000  46.330002  42.738068  39673900\n",
              "2015-01-06  46.380001  46.750000  45.540001  45.650002  42.110783  36447900\n",
              "2015-01-07  45.980000  46.459999  45.490002  46.230000  42.645817  29114100"
            ]
          },
          "metadata": {
            "tags": []
          },
          "execution_count": 6
        }
      ]
    },
    {
      "cell_type": "code",
      "metadata": {
        "id": "02abW93kpLyv",
        "colab_type": "code",
        "outputId": "d4100635-4334-45ef-b208-c203140f3ae1",
        "colab": {
          "base_uri": "https://localhost:8080/",
          "height": 34
        }
      },
      "source": [
        "# run this cell to ensure Microsoft's stock data is imported\n",
        "print(ms.iloc[0, 0])"
      ],
      "execution_count": 0,
      "outputs": [
        {
          "output_type": "stream",
          "text": [
            "46.73\n"
          ],
          "name": "stdout"
        }
      ]
    },
    {
      "cell_type": "markdown",
      "metadata": {
        "id": "t3tLjdFapLy5",
        "colab_type": "text"
      },
      "source": [
        "** Expected output: ** 46.73"
      ]
    },
    {
      "cell_type": "code",
      "metadata": {
        "id": "pEMoEgmSpLzT",
        "colab_type": "code",
        "outputId": "b2d8db5a-8cf0-4b29-f1ad-ecdf62e3b8aa",
        "colab": {
          "base_uri": "https://localhost:8080/",
          "height": 50
        }
      },
      "source": [
        "print(len(ms))\n",
        "print(len(fb))"
      ],
      "execution_count": 0,
      "outputs": [
        {
          "output_type": "stream",
          "text": [
            "780\n",
            "780\n"
          ],
          "name": "stdout"
        }
      ]
    },
    {
      "cell_type": "markdown",
      "metadata": {
        "id": "DvPich19saXJ",
        "colab_type": "text"
      },
      "source": [
        "Saving a file from colab back to a folder in gdrive. We must specify where we want the file saved."
      ]
    },
    {
      "cell_type": "code",
      "metadata": {
        "id": "_wtsmnRfpLzb",
        "colab_type": "code",
        "colab": {}
      },
      "source": [
        "fb.to_csv('/content/gdrive/My Drive/Colab_Notebooks/python_and_statistics_for_financial_analysis/data/fb_saved_data')"
      ],
      "execution_count": 0,
      "outputs": []
    },
    {
      "cell_type": "markdown",
      "metadata": {
        "id": "O0-lDMEAtT_f",
        "colab_type": "text"
      },
      "source": [
        "killing this notebook to free up space in colab after exploring the notebook"
      ]
    },
    {
      "cell_type": "code",
      "metadata": {
        "id": "279iiS3tpLze",
        "colab_type": "code",
        "colab": {}
      },
      "source": [
        "import os, signal\n",
        "os.kill(os.getpid(), signal.SIGKILL)"
      ],
      "execution_count": 0,
      "outputs": []
    }
  ]
}