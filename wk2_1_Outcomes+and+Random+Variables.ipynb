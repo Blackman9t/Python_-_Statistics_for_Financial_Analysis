{
  "nbformat": 4,
  "nbformat_minor": 0,
  "metadata": {
    "colab": {
      "name": "wk2_1_Outcomes+and+Random+Variables.ipynb",
      "version": "0.3.2",
      "provenance": [],
      "collapsed_sections": [],
      "include_colab_link": true
    },
    "language_info": {
      "codemirror_mode": {
        "name": "ipython",
        "version": 3
      },
      "file_extension": ".py",
      "mimetype": "text/x-python",
      "name": "python",
      "nbconvert_exporter": "python",
      "pygments_lexer": "ipython3",
      "version": "3.6.2"
    },
    "kernelspec": {
      "display_name": "Python 3",
      "language": "python",
      "name": "python3"
    }
  },
  "cells": [
    {
      "cell_type": "markdown",
      "metadata": {
        "id": "view-in-github",
        "colab_type": "text"
      },
      "source": [
        "<a href=\"https://colab.research.google.com/github/Blackman9t/Python_-_Statistics_for_Financial_Analysis/blob/master/wk2_1_Outcomes%2Band%2BRandom%2BVariables.ipynb\" target=\"_parent\"><img src=\"https://colab.research.google.com/assets/colab-badge.svg\" alt=\"Open In Colab\"/></a>"
      ]
    },
    {
      "cell_type": "markdown",
      "metadata": {
        "id": "cz1Q40gCFuyf",
        "colab_type": "text"
      },
      "source": [
        "## Outcomes and Variables"
      ]
    },
    {
      "cell_type": "code",
      "metadata": {
        "id": "_Tx-2ohwFuyh",
        "colab_type": "code",
        "colab": {}
      },
      "source": [
        "#import numpy and pandas package\n",
        "import numpy as np\n",
        "import pandas as pd"
      ],
      "execution_count": 0,
      "outputs": []
    },
    {
      "cell_type": "markdown",
      "metadata": {
        "id": "jj6jeIgwFuyk",
        "colab_type": "text"
      },
      "source": [
        "### Mimic the roll dice game"
      ]
    },
    {
      "cell_type": "code",
      "metadata": {
        "id": "9n757CUxFuyl",
        "colab_type": "code",
        "colab": {
          "base_uri": "https://localhost:8080/",
          "height": 34
        },
        "outputId": "83b77a72-07c4-47ce-e24b-1503eb75cb0d"
      },
      "source": [
        "# roll two dice for multiple times\n",
        "die = pd.DataFrame([1, 2, 3, 4, 5, 6])\n",
        "sum_of_dice = die.sample(2, replace=True).sum().loc[0]\n",
        "print('Sum of dice is', sum_of_dice)  \n",
        "\n",
        "# you may get different outcomes as we now mimic the result of rolling 2 dice, but the range must be limited between 2 and 12. "
      ],
      "execution_count": 68,
      "outputs": [
        {
          "output_type": "stream",
          "text": [
            "Sum of dice is 5\n"
          ],
          "name": "stdout"
        }
      ]
    },
    {
      "cell_type": "code",
      "metadata": {
        "id": "mcnaqIKAFuyp",
        "colab_type": "code",
        "colab": {}
      },
      "source": [
        "# It is your turn! let's replace the none with the code of rolling three dice, instead of two\n",
        "\n",
        "np.random.seed(1)  # This is for checking answer, do NOT modify this line of code\n",
        "\n",
        "#Modify the code, replace the None\n",
        "sum_of_three_dice = die.sample(3, replace=True).sum().loc[0]"
      ],
      "execution_count": 0,
      "outputs": []
    },
    {
      "cell_type": "code",
      "metadata": {
        "id": "D8ihY87wFuys",
        "colab_type": "code",
        "colab": {
          "base_uri": "https://localhost:8080/",
          "height": 34
        },
        "outputId": "75cc57c5-1798-40c2-d7ba-434224c5e7af"
      },
      "source": [
        "print('Sum of three dice is', sum_of_three_dice)"
      ],
      "execution_count": 82,
      "outputs": [
        {
          "output_type": "stream",
          "text": [
            "Sum of three dice is 15\n"
          ],
          "name": "stdout"
        }
      ]
    },
    {
      "cell_type": "markdown",
      "metadata": {
        "id": "1nlPv1VsFuyv",
        "colab_type": "text"
      },
      "source": [
        "**Expected output: ** Sum of three dice is 15"
      ]
    },
    {
      "cell_type": "markdown",
      "metadata": {
        "id": "6WvVIcMDFuyw",
        "colab_type": "text"
      },
      "source": [
        "### Mimic the roll dice game for multiple times"
      ]
    },
    {
      "cell_type": "code",
      "metadata": {
        "id": "8CKG3E7xFuyx",
        "colab_type": "code",
        "colab": {}
      },
      "source": [
        "# The following code mimics the roll dice game for 50 times. And the results are all stored into \"Result\"\n",
        "# Lets try and get the results of 50 sum of faces.\n",
        "\n",
        "trial = 50\n",
        "result = [die.sample(2, replace=True).sum().loc[0] for i in range(trial)]"
      ],
      "execution_count": 0,
      "outputs": []
    },
    {
      "cell_type": "code",
      "metadata": {
        "id": "G5bVYrq5Fuy0",
        "colab_type": "code",
        "colab": {
          "base_uri": "https://localhost:8080/",
          "height": 34
        },
        "outputId": "e2d0ea48-90ef-4ada-8e21-c11c0c5068cd"
      },
      "source": [
        "#print the first 10 results\n",
        "print(result[:10])"
      ],
      "execution_count": 86,
      "outputs": [
        {
          "output_type": "stream",
          "text": [
            "[3, 10, 2, 7, 11, 5, 11, 8, 9, 8]\n"
          ],
          "name": "stdout"
        }
      ]
    },
    {
      "cell_type": "code",
      "metadata": {
        "id": "M3-OnPQULxt-",
        "colab_type": "code",
        "colab": {
          "base_uri": "https://localhost:8080/",
          "height": 34
        },
        "outputId": "febcc2f5-f428-42e9-87ca-59f244280e95"
      },
      "source": [
        "min(result), max(result)"
      ],
      "execution_count": 88,
      "outputs": [
        {
          "output_type": "execute_result",
          "data": {
            "text/plain": [
              "(2, 12)"
            ]
          },
          "metadata": {
            "tags": []
          },
          "execution_count": 88
        }
      ]
    }
  ]
}