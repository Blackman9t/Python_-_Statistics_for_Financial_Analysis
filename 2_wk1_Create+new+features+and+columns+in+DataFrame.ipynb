{
  "nbformat": 4,
  "nbformat_minor": 0,
  "metadata": {
    "colab": {
      "name": "2. Create+new+features+and+columns+in+DataFrame.ipynb",
      "version": "0.3.2",
      "provenance": [],
      "collapsed_sections": [],
      "include_colab_link": true
    },
    "language_info": {
      "codemirror_mode": {
        "name": "ipython",
        "version": 3
      },
      "file_extension": ".py",
      "mimetype": "text/x-python",
      "name": "python",
      "nbconvert_exporter": "python",
      "pygments_lexer": "ipython3",
      "version": "3.6.2"
    },
    "kernelspec": {
      "display_name": "Python 3",
      "language": "python",
      "name": "python3"
    }
  },
  "cells": [
    {
      "cell_type": "markdown",
      "metadata": {
        "id": "view-in-github",
        "colab_type": "text"
      },
      "source": [
        "<a href=\"https://colab.research.google.com/github/Blackman9t/Python_-_Statistics_for_Financial_Analysis/blob/master/2_Create%2Bnew%2Bfeatures%2Band%2Bcolumns%2Bin%2BDataFrame.ipynb\" target=\"_parent\"><img src=\"https://colab.research.google.com/assets/colab-badge.svg\" alt=\"Open In Colab\"/></a>"
      ]
    },
    {
      "cell_type": "markdown",
      "metadata": {
        "id": "AM8mlOWPPjO8",
        "colab_type": "text"
      },
      "source": [
        "Create features and columns in DataFrame\n",
        "In this Jupyter Notebook, you will practice the following codes to create new features/columns in a DataFrame\n",
        "\n",
        "1. Create new columns in the DataFrame by arithmetic calculation - Price Difference and Daily Return\n",
        "\n",
        "2. Create a new column using List Comprehension - Direction\n",
        "\n",
        "3. Create a new column using Rolling Window Calculation - Any days of Moving Average\n",
        "\n"
      ]
    },
    {
      "cell_type": "code",
      "metadata": {
        "id": "yusfm5srPcqT",
        "colab_type": "code",
        "colab": {}
      },
      "source": [
        "import pandas as pd\n",
        "import matplotlib.pyplot as plt\n",
        "%matplotlib inline"
      ],
      "execution_count": 0,
      "outputs": []
    },
    {
      "cell_type": "code",
      "metadata": {
        "id": "Iz3L4CkyPcqX",
        "colab_type": "code",
        "colab": {
          "base_uri": "https://localhost:8080/",
          "height": 104
        },
        "outputId": "ed10edf0-5065-48dd-a012-8555a9565852"
      },
      "source": [
        "fb = pd.DataFrame.from_csv('https://raw.githubusercontent.com/Blackman9t/Python_-_Statistics_for_Financial_Analysis/master/facebook.csv')\n",
        "ms = pd.DataFrame.from_csv('https://raw.githubusercontent.com/Blackman9t/Python_-_Statistics_for_Financial_Analysis/master/microsoft.csv')"
      ],
      "execution_count": 17,
      "outputs": [
        {
          "output_type": "stream",
          "text": [
            "/usr/local/lib/python3.6/dist-packages/ipykernel_launcher.py:1: FutureWarning: from_csv is deprecated. Please use read_csv(...) instead. Note that some of the default arguments are different, so please refer to the documentation for from_csv when changing your function calls\n",
            "  \"\"\"Entry point for launching an IPython kernel.\n",
            "/usr/local/lib/python3.6/dist-packages/ipykernel_launcher.py:2: FutureWarning: from_csv is deprecated. Please use read_csv(...) instead. Note that some of the default arguments are different, so please refer to the documentation for from_csv when changing your function calls\n",
            "  \n"
          ],
          "name": "stderr"
        }
      ]
    },
    {
      "cell_type": "markdown",
      "metadata": {
        "id": "dlduPQeFPcqa",
        "colab_type": "text"
      },
      "source": [
        "## Create a new column in the DataFrame (1) - Price difference"
      ]
    },
    {
      "cell_type": "code",
      "metadata": {
        "id": "orPlgvjLTuFw",
        "colab_type": "code",
        "colab": {
          "base_uri": "https://localhost:8080/",
          "height": 136
        },
        "outputId": "867f475f-3dca-4e67-9bad-ded971fce672"
      },
      "source": [
        "fb.head(2)"
      ],
      "execution_count": 18,
      "outputs": [
        {
          "output_type": "execute_result",
          "data": {
            "text/html": [
              "<div>\n",
              "<style scoped>\n",
              "    .dataframe tbody tr th:only-of-type {\n",
              "        vertical-align: middle;\n",
              "    }\n",
              "\n",
              "    .dataframe tbody tr th {\n",
              "        vertical-align: top;\n",
              "    }\n",
              "\n",
              "    .dataframe thead th {\n",
              "        text-align: right;\n",
              "    }\n",
              "</style>\n",
              "<table border=\"1\" class=\"dataframe\">\n",
              "  <thead>\n",
              "    <tr style=\"text-align: right;\">\n",
              "      <th></th>\n",
              "      <th>Open</th>\n",
              "      <th>High</th>\n",
              "      <th>Low</th>\n",
              "      <th>Close</th>\n",
              "      <th>Adj Close</th>\n",
              "      <th>Volume</th>\n",
              "    </tr>\n",
              "    <tr>\n",
              "      <th>Date</th>\n",
              "      <th></th>\n",
              "      <th></th>\n",
              "      <th></th>\n",
              "      <th></th>\n",
              "      <th></th>\n",
              "      <th></th>\n",
              "    </tr>\n",
              "  </thead>\n",
              "  <tbody>\n",
              "    <tr>\n",
              "      <th>2014-12-31</th>\n",
              "      <td>20.400000</td>\n",
              "      <td>20.510000</td>\n",
              "      <td>19.990000</td>\n",
              "      <td>20.049999</td>\n",
              "      <td>19.459270</td>\n",
              "      <td>4157500</td>\n",
              "    </tr>\n",
              "    <tr>\n",
              "      <th>2015-01-02</th>\n",
              "      <td>20.129999</td>\n",
              "      <td>20.280001</td>\n",
              "      <td>19.809999</td>\n",
              "      <td>20.129999</td>\n",
              "      <td>19.536913</td>\n",
              "      <td>2842000</td>\n",
              "    </tr>\n",
              "  </tbody>\n",
              "</table>\n",
              "</div>"
            ],
            "text/plain": [
              "                 Open       High        Low      Close  Adj Close   Volume\n",
              "Date                                                                      \n",
              "2014-12-31  20.400000  20.510000  19.990000  20.049999  19.459270  4157500\n",
              "2015-01-02  20.129999  20.280001  19.809999  20.129999  19.536913  2842000"
            ]
          },
          "metadata": {
            "tags": []
          },
          "execution_count": 18
        }
      ]
    },
    {
      "cell_type": "code",
      "metadata": {
        "id": "gaNhGpE3Pcqb",
        "colab_type": "code",
        "colab": {}
      },
      "source": [
        "#Create a new column PriceDiff in the DataFrame fb\n",
        "fb.insert(fb.columns.get_loc('Close')+1, 'PriceDiff', fb['Close'].shift(-1) - fb['Close']) # Thus first row of PriceDiff is 2nd row of Close - first row of close"
      ],
      "execution_count": 0,
      "outputs": []
    },
    {
      "cell_type": "markdown",
      "metadata": {
        "id": "AKeWXVvvVJbF",
        "colab_type": "text"
      },
      "source": [
        "Thus first row of PriceDiff is 2nd row of Close - first row of Close"
      ]
    },
    {
      "cell_type": "code",
      "metadata": {
        "id": "YieP9yxiUDjB",
        "colab_type": "code",
        "colab": {
          "base_uri": "https://localhost:8080/",
          "height": 166
        },
        "outputId": "9734ab59-bd0f-4d72-e15b-82f960f77ac1"
      },
      "source": [
        "fb.head(3)"
      ],
      "execution_count": 20,
      "outputs": [
        {
          "output_type": "execute_result",
          "data": {
            "text/html": [
              "<div>\n",
              "<style scoped>\n",
              "    .dataframe tbody tr th:only-of-type {\n",
              "        vertical-align: middle;\n",
              "    }\n",
              "\n",
              "    .dataframe tbody tr th {\n",
              "        vertical-align: top;\n",
              "    }\n",
              "\n",
              "    .dataframe thead th {\n",
              "        text-align: right;\n",
              "    }\n",
              "</style>\n",
              "<table border=\"1\" class=\"dataframe\">\n",
              "  <thead>\n",
              "    <tr style=\"text-align: right;\">\n",
              "      <th></th>\n",
              "      <th>Open</th>\n",
              "      <th>High</th>\n",
              "      <th>Low</th>\n",
              "      <th>Close</th>\n",
              "      <th>PriceDiff</th>\n",
              "      <th>Adj Close</th>\n",
              "      <th>Volume</th>\n",
              "    </tr>\n",
              "    <tr>\n",
              "      <th>Date</th>\n",
              "      <th></th>\n",
              "      <th></th>\n",
              "      <th></th>\n",
              "      <th></th>\n",
              "      <th></th>\n",
              "      <th></th>\n",
              "      <th></th>\n",
              "    </tr>\n",
              "  </thead>\n",
              "  <tbody>\n",
              "    <tr>\n",
              "      <th>2014-12-31</th>\n",
              "      <td>20.400000</td>\n",
              "      <td>20.510000</td>\n",
              "      <td>19.990000</td>\n",
              "      <td>20.049999</td>\n",
              "      <td>0.080000</td>\n",
              "      <td>19.459270</td>\n",
              "      <td>4157500</td>\n",
              "    </tr>\n",
              "    <tr>\n",
              "      <th>2015-01-02</th>\n",
              "      <td>20.129999</td>\n",
              "      <td>20.280001</td>\n",
              "      <td>19.809999</td>\n",
              "      <td>20.129999</td>\n",
              "      <td>-0.339998</td>\n",
              "      <td>19.536913</td>\n",
              "      <td>2842000</td>\n",
              "    </tr>\n",
              "    <tr>\n",
              "      <th>2015-01-05</th>\n",
              "      <td>20.129999</td>\n",
              "      <td>20.190001</td>\n",
              "      <td>19.700001</td>\n",
              "      <td>19.790001</td>\n",
              "      <td>-0.600000</td>\n",
              "      <td>19.206934</td>\n",
              "      <td>4948800</td>\n",
              "    </tr>\n",
              "  </tbody>\n",
              "</table>\n",
              "</div>"
            ],
            "text/plain": [
              "                 Open       High        Low  ...  PriceDiff  Adj Close   Volume\n",
              "Date                                         ...                               \n",
              "2014-12-31  20.400000  20.510000  19.990000  ...   0.080000  19.459270  4157500\n",
              "2015-01-02  20.129999  20.280001  19.809999  ...  -0.339998  19.536913  2842000\n",
              "2015-01-05  20.129999  20.190001  19.700001  ...  -0.600000  19.206934  4948800\n",
              "\n",
              "[3 rows x 7 columns]"
            ]
          },
          "metadata": {
            "tags": []
          },
          "execution_count": 20
        }
      ]
    },
    {
      "cell_type": "code",
      "metadata": {
        "id": "UukWEwgfPcqd",
        "colab_type": "code",
        "colab": {
          "base_uri": "https://localhost:8080/",
          "height": 136
        },
        "outputId": "ee092195-6500-48bb-851d-aaea4d201bba"
      },
      "source": [
        "#Your turn to create PriceDiff in the DataFrame ms\n",
        "ms.head(2)"
      ],
      "execution_count": 21,
      "outputs": [
        {
          "output_type": "execute_result",
          "data": {
            "text/html": [
              "<div>\n",
              "<style scoped>\n",
              "    .dataframe tbody tr th:only-of-type {\n",
              "        vertical-align: middle;\n",
              "    }\n",
              "\n",
              "    .dataframe tbody tr th {\n",
              "        vertical-align: top;\n",
              "    }\n",
              "\n",
              "    .dataframe thead th {\n",
              "        text-align: right;\n",
              "    }\n",
              "</style>\n",
              "<table border=\"1\" class=\"dataframe\">\n",
              "  <thead>\n",
              "    <tr style=\"text-align: right;\">\n",
              "      <th></th>\n",
              "      <th>Open</th>\n",
              "      <th>High</th>\n",
              "      <th>Low</th>\n",
              "      <th>Close</th>\n",
              "      <th>Adj Close</th>\n",
              "      <th>Volume</th>\n",
              "    </tr>\n",
              "    <tr>\n",
              "      <th>Date</th>\n",
              "      <th></th>\n",
              "      <th></th>\n",
              "      <th></th>\n",
              "      <th></th>\n",
              "      <th></th>\n",
              "      <th></th>\n",
              "    </tr>\n",
              "  </thead>\n",
              "  <tbody>\n",
              "    <tr>\n",
              "      <th>2014-12-31</th>\n",
              "      <td>46.73</td>\n",
              "      <td>47.439999</td>\n",
              "      <td>46.450001</td>\n",
              "      <td>46.450001</td>\n",
              "      <td>42.848763</td>\n",
              "      <td>21552500</td>\n",
              "    </tr>\n",
              "    <tr>\n",
              "      <th>2015-01-02</th>\n",
              "      <td>46.66</td>\n",
              "      <td>47.419998</td>\n",
              "      <td>46.540001</td>\n",
              "      <td>46.759998</td>\n",
              "      <td>43.134731</td>\n",
              "      <td>27913900</td>\n",
              "    </tr>\n",
              "  </tbody>\n",
              "</table>\n",
              "</div>"
            ],
            "text/plain": [
              "             Open       High        Low      Close  Adj Close    Volume\n",
              "Date                                                                   \n",
              "2014-12-31  46.73  47.439999  46.450001  46.450001  42.848763  21552500\n",
              "2015-01-02  46.66  47.419998  46.540001  46.759998  43.134731  27913900"
            ]
          },
          "metadata": {
            "tags": []
          },
          "execution_count": 21
        }
      ]
    },
    {
      "cell_type": "code",
      "metadata": {
        "id": "18Nz2VkiWMaS",
        "colab_type": "code",
        "colab": {
          "base_uri": "https://localhost:8080/",
          "height": 166
        },
        "outputId": "426c793c-9121-46aa-9266-ab0819840510"
      },
      "source": [
        "ms.insert(ms.columns.get_loc('Close')+1, 'PriceDiff', ms['Close'].shift(-1) - ms['Close']) # Thus first row of PriceDiff is 2nd row of Close - first row of close\n",
        "ms.head(3)"
      ],
      "execution_count": 22,
      "outputs": [
        {
          "output_type": "execute_result",
          "data": {
            "text/html": [
              "<div>\n",
              "<style scoped>\n",
              "    .dataframe tbody tr th:only-of-type {\n",
              "        vertical-align: middle;\n",
              "    }\n",
              "\n",
              "    .dataframe tbody tr th {\n",
              "        vertical-align: top;\n",
              "    }\n",
              "\n",
              "    .dataframe thead th {\n",
              "        text-align: right;\n",
              "    }\n",
              "</style>\n",
              "<table border=\"1\" class=\"dataframe\">\n",
              "  <thead>\n",
              "    <tr style=\"text-align: right;\">\n",
              "      <th></th>\n",
              "      <th>Open</th>\n",
              "      <th>High</th>\n",
              "      <th>Low</th>\n",
              "      <th>Close</th>\n",
              "      <th>PriceDiff</th>\n",
              "      <th>Adj Close</th>\n",
              "      <th>Volume</th>\n",
              "    </tr>\n",
              "    <tr>\n",
              "      <th>Date</th>\n",
              "      <th></th>\n",
              "      <th></th>\n",
              "      <th></th>\n",
              "      <th></th>\n",
              "      <th></th>\n",
              "      <th></th>\n",
              "      <th></th>\n",
              "    </tr>\n",
              "  </thead>\n",
              "  <tbody>\n",
              "    <tr>\n",
              "      <th>2014-12-31</th>\n",
              "      <td>46.730000</td>\n",
              "      <td>47.439999</td>\n",
              "      <td>46.450001</td>\n",
              "      <td>46.450001</td>\n",
              "      <td>0.309997</td>\n",
              "      <td>42.848763</td>\n",
              "      <td>21552500</td>\n",
              "    </tr>\n",
              "    <tr>\n",
              "      <th>2015-01-02</th>\n",
              "      <td>46.660000</td>\n",
              "      <td>47.419998</td>\n",
              "      <td>46.540001</td>\n",
              "      <td>46.759998</td>\n",
              "      <td>-0.429996</td>\n",
              "      <td>43.134731</td>\n",
              "      <td>27913900</td>\n",
              "    </tr>\n",
              "    <tr>\n",
              "      <th>2015-01-05</th>\n",
              "      <td>46.369999</td>\n",
              "      <td>46.730000</td>\n",
              "      <td>46.250000</td>\n",
              "      <td>46.330002</td>\n",
              "      <td>-0.680000</td>\n",
              "      <td>42.738068</td>\n",
              "      <td>39673900</td>\n",
              "    </tr>\n",
              "  </tbody>\n",
              "</table>\n",
              "</div>"
            ],
            "text/plain": [
              "                 Open       High        Low  ...  PriceDiff  Adj Close    Volume\n",
              "Date                                         ...                                \n",
              "2014-12-31  46.730000  47.439999  46.450001  ...   0.309997  42.848763  21552500\n",
              "2015-01-02  46.660000  47.419998  46.540001  ...  -0.429996  43.134731  27913900\n",
              "2015-01-05  46.369999  46.730000  46.250000  ...  -0.680000  42.738068  39673900\n",
              "\n",
              "[3 rows x 7 columns]"
            ]
          },
          "metadata": {
            "tags": []
          },
          "execution_count": 22
        }
      ]
    },
    {
      "cell_type": "code",
      "metadata": {
        "id": "cBXhF1tePcqg",
        "colab_type": "code",
        "colab": {
          "base_uri": "https://localhost:8080/",
          "height": 34
        },
        "outputId": "bff35f77-bada-45fc-eb4d-48e95bcb4c4f"
      },
      "source": [
        "#Run this code to display the price difference of Microsoft on 2015-01-05\n",
        "print(ms['PriceDiff'].loc['2015-01-05'])"
      ],
      "execution_count": 23,
      "outputs": [
        {
          "output_type": "stream",
          "text": [
            "-0.6799999999999997\n"
          ],
          "name": "stdout"
        }
      ]
    },
    {
      "cell_type": "markdown",
      "metadata": {
        "id": "wFQQoHtVPcqi",
        "colab_type": "text"
      },
      "source": [
        "** Expected Output: ** -0.68"
      ]
    },
    {
      "cell_type": "markdown",
      "metadata": {
        "id": "E5vR9J1xPcqj",
        "colab_type": "text"
      },
      "source": [
        "## Create a new column in the DataFrame (2) - Daily return\n",
        "\n",
        "Daily Return is calcuated as PriceDiff/Close"
      ]
    },
    {
      "cell_type": "code",
      "metadata": {
        "id": "niEKaRiCPcqk",
        "colab_type": "code",
        "colab": {}
      },
      "source": [
        "#Create a new column Return in the DataFrame fb\n",
        "fb.insert(fb.columns.get_loc('PriceDiff')+1, 'Return', fb.PriceDiff/fb.Close) "
      ],
      "execution_count": 0,
      "outputs": []
    },
    {
      "cell_type": "code",
      "metadata": {
        "id": "V9cTkX8zWwhz",
        "colab_type": "code",
        "colab": {
          "base_uri": "https://localhost:8080/",
          "height": 166
        },
        "outputId": "94d24876-26bc-4816-b552-a927b8224238"
      },
      "source": [
        "fb.head(3)"
      ],
      "execution_count": 25,
      "outputs": [
        {
          "output_type": "execute_result",
          "data": {
            "text/html": [
              "<div>\n",
              "<style scoped>\n",
              "    .dataframe tbody tr th:only-of-type {\n",
              "        vertical-align: middle;\n",
              "    }\n",
              "\n",
              "    .dataframe tbody tr th {\n",
              "        vertical-align: top;\n",
              "    }\n",
              "\n",
              "    .dataframe thead th {\n",
              "        text-align: right;\n",
              "    }\n",
              "</style>\n",
              "<table border=\"1\" class=\"dataframe\">\n",
              "  <thead>\n",
              "    <tr style=\"text-align: right;\">\n",
              "      <th></th>\n",
              "      <th>Open</th>\n",
              "      <th>High</th>\n",
              "      <th>Low</th>\n",
              "      <th>Close</th>\n",
              "      <th>PriceDiff</th>\n",
              "      <th>Return</th>\n",
              "      <th>Adj Close</th>\n",
              "      <th>Volume</th>\n",
              "    </tr>\n",
              "    <tr>\n",
              "      <th>Date</th>\n",
              "      <th></th>\n",
              "      <th></th>\n",
              "      <th></th>\n",
              "      <th></th>\n",
              "      <th></th>\n",
              "      <th></th>\n",
              "      <th></th>\n",
              "      <th></th>\n",
              "    </tr>\n",
              "  </thead>\n",
              "  <tbody>\n",
              "    <tr>\n",
              "      <th>2014-12-31</th>\n",
              "      <td>20.400000</td>\n",
              "      <td>20.510000</td>\n",
              "      <td>19.990000</td>\n",
              "      <td>20.049999</td>\n",
              "      <td>0.080000</td>\n",
              "      <td>0.003990</td>\n",
              "      <td>19.459270</td>\n",
              "      <td>4157500</td>\n",
              "    </tr>\n",
              "    <tr>\n",
              "      <th>2015-01-02</th>\n",
              "      <td>20.129999</td>\n",
              "      <td>20.280001</td>\n",
              "      <td>19.809999</td>\n",
              "      <td>20.129999</td>\n",
              "      <td>-0.339998</td>\n",
              "      <td>-0.016890</td>\n",
              "      <td>19.536913</td>\n",
              "      <td>2842000</td>\n",
              "    </tr>\n",
              "    <tr>\n",
              "      <th>2015-01-05</th>\n",
              "      <td>20.129999</td>\n",
              "      <td>20.190001</td>\n",
              "      <td>19.700001</td>\n",
              "      <td>19.790001</td>\n",
              "      <td>-0.600000</td>\n",
              "      <td>-0.030318</td>\n",
              "      <td>19.206934</td>\n",
              "      <td>4948800</td>\n",
              "    </tr>\n",
              "  </tbody>\n",
              "</table>\n",
              "</div>"
            ],
            "text/plain": [
              "                 Open       High        Low  ...    Return  Adj Close   Volume\n",
              "Date                                         ...                              \n",
              "2014-12-31  20.400000  20.510000  19.990000  ...  0.003990  19.459270  4157500\n",
              "2015-01-02  20.129999  20.280001  19.809999  ... -0.016890  19.536913  2842000\n",
              "2015-01-05  20.129999  20.190001  19.700001  ... -0.030318  19.206934  4948800\n",
              "\n",
              "[3 rows x 8 columns]"
            ]
          },
          "metadata": {
            "tags": []
          },
          "execution_count": 25
        }
      ]
    },
    {
      "cell_type": "code",
      "metadata": {
        "id": "eF6zauXNPcqm",
        "colab_type": "code",
        "colab": {
          "base_uri": "https://localhost:8080/",
          "height": 166
        },
        "outputId": "305ab7c8-71a7-4a8c-a636-c6d931e77bdc"
      },
      "source": [
        "#Your turn to create a new column Return in the DataFrame MS\n",
        "ms.insert(ms.columns.get_loc('PriceDiff')+1, 'Return', ms.PriceDiff/ms.Close) \n",
        "ms.head(3)"
      ],
      "execution_count": 26,
      "outputs": [
        {
          "output_type": "execute_result",
          "data": {
            "text/html": [
              "<div>\n",
              "<style scoped>\n",
              "    .dataframe tbody tr th:only-of-type {\n",
              "        vertical-align: middle;\n",
              "    }\n",
              "\n",
              "    .dataframe tbody tr th {\n",
              "        vertical-align: top;\n",
              "    }\n",
              "\n",
              "    .dataframe thead th {\n",
              "        text-align: right;\n",
              "    }\n",
              "</style>\n",
              "<table border=\"1\" class=\"dataframe\">\n",
              "  <thead>\n",
              "    <tr style=\"text-align: right;\">\n",
              "      <th></th>\n",
              "      <th>Open</th>\n",
              "      <th>High</th>\n",
              "      <th>Low</th>\n",
              "      <th>Close</th>\n",
              "      <th>PriceDiff</th>\n",
              "      <th>Return</th>\n",
              "      <th>Adj Close</th>\n",
              "      <th>Volume</th>\n",
              "    </tr>\n",
              "    <tr>\n",
              "      <th>Date</th>\n",
              "      <th></th>\n",
              "      <th></th>\n",
              "      <th></th>\n",
              "      <th></th>\n",
              "      <th></th>\n",
              "      <th></th>\n",
              "      <th></th>\n",
              "      <th></th>\n",
              "    </tr>\n",
              "  </thead>\n",
              "  <tbody>\n",
              "    <tr>\n",
              "      <th>2014-12-31</th>\n",
              "      <td>46.730000</td>\n",
              "      <td>47.439999</td>\n",
              "      <td>46.450001</td>\n",
              "      <td>46.450001</td>\n",
              "      <td>0.309997</td>\n",
              "      <td>0.006674</td>\n",
              "      <td>42.848763</td>\n",
              "      <td>21552500</td>\n",
              "    </tr>\n",
              "    <tr>\n",
              "      <th>2015-01-02</th>\n",
              "      <td>46.660000</td>\n",
              "      <td>47.419998</td>\n",
              "      <td>46.540001</td>\n",
              "      <td>46.759998</td>\n",
              "      <td>-0.429996</td>\n",
              "      <td>-0.009196</td>\n",
              "      <td>43.134731</td>\n",
              "      <td>27913900</td>\n",
              "    </tr>\n",
              "    <tr>\n",
              "      <th>2015-01-05</th>\n",
              "      <td>46.369999</td>\n",
              "      <td>46.730000</td>\n",
              "      <td>46.250000</td>\n",
              "      <td>46.330002</td>\n",
              "      <td>-0.680000</td>\n",
              "      <td>-0.014677</td>\n",
              "      <td>42.738068</td>\n",
              "      <td>39673900</td>\n",
              "    </tr>\n",
              "  </tbody>\n",
              "</table>\n",
              "</div>"
            ],
            "text/plain": [
              "                 Open       High        Low  ...    Return  Adj Close    Volume\n",
              "Date                                         ...                               \n",
              "2014-12-31  46.730000  47.439999  46.450001  ...  0.006674  42.848763  21552500\n",
              "2015-01-02  46.660000  47.419998  46.540001  ... -0.009196  43.134731  27913900\n",
              "2015-01-05  46.369999  46.730000  46.250000  ... -0.014677  42.738068  39673900\n",
              "\n",
              "[3 rows x 8 columns]"
            ]
          },
          "metadata": {
            "tags": []
          },
          "execution_count": 26
        }
      ]
    },
    {
      "cell_type": "code",
      "metadata": {
        "id": "s4PzRGuhPcqp",
        "colab_type": "code",
        "colab": {
          "base_uri": "https://localhost:8080/",
          "height": 34
        },
        "outputId": "5cef6987-c770-4a3d-bb6c-7c99df17af12"
      },
      "source": [
        "#Run this code to print the return on 2015-01-05\n",
        "print(ms['Return'].loc['2015-01-05'])"
      ],
      "execution_count": 27,
      "outputs": [
        {
          "output_type": "stream",
          "text": [
            "-0.014677314281143345\n"
          ],
          "name": "stdout"
        }
      ]
    },
    {
      "cell_type": "markdown",
      "metadata": {
        "id": "Mqann_lEPcqs",
        "colab_type": "text"
      },
      "source": [
        "** Expected Output: ** -0.0146773142811"
      ]
    },
    {
      "cell_type": "markdown",
      "metadata": {
        "id": "il2KMmi4Pcqt",
        "colab_type": "text"
      },
      "source": [
        "## Create a new column in the DataFrame using List Comprehension - Direction"
      ]
    },
    {
      "cell_type": "code",
      "metadata": {
        "id": "ifKY9WabPcqu",
        "colab_type": "code",
        "colab": {
          "base_uri": "https://localhost:8080/",
          "height": 225
        },
        "outputId": "dafb689e-d97f-4c25-fa1e-54c2b8400a1e"
      },
      "source": [
        "#Create a new column Direction. \n",
        "#The List Comprehension means : if the price difference is larger than 0, denote as 1, otherwise, denote as 0,\n",
        "#for every record in the DataFrame - fb\n",
        "\n",
        "fb['Direction'] = [1 if fb['PriceDiff'].loc[ei] > 0 else 0 for ei in fb.index ]\n",
        "\n",
        "fb.head()"
      ],
      "execution_count": 28,
      "outputs": [
        {
          "output_type": "execute_result",
          "data": {
            "text/html": [
              "<div>\n",
              "<style scoped>\n",
              "    .dataframe tbody tr th:only-of-type {\n",
              "        vertical-align: middle;\n",
              "    }\n",
              "\n",
              "    .dataframe tbody tr th {\n",
              "        vertical-align: top;\n",
              "    }\n",
              "\n",
              "    .dataframe thead th {\n",
              "        text-align: right;\n",
              "    }\n",
              "</style>\n",
              "<table border=\"1\" class=\"dataframe\">\n",
              "  <thead>\n",
              "    <tr style=\"text-align: right;\">\n",
              "      <th></th>\n",
              "      <th>Open</th>\n",
              "      <th>High</th>\n",
              "      <th>Low</th>\n",
              "      <th>Close</th>\n",
              "      <th>PriceDiff</th>\n",
              "      <th>Return</th>\n",
              "      <th>Adj Close</th>\n",
              "      <th>Volume</th>\n",
              "      <th>Direction</th>\n",
              "    </tr>\n",
              "    <tr>\n",
              "      <th>Date</th>\n",
              "      <th></th>\n",
              "      <th></th>\n",
              "      <th></th>\n",
              "      <th></th>\n",
              "      <th></th>\n",
              "      <th></th>\n",
              "      <th></th>\n",
              "      <th></th>\n",
              "      <th></th>\n",
              "    </tr>\n",
              "  </thead>\n",
              "  <tbody>\n",
              "    <tr>\n",
              "      <th>2014-12-31</th>\n",
              "      <td>20.400000</td>\n",
              "      <td>20.510000</td>\n",
              "      <td>19.990000</td>\n",
              "      <td>20.049999</td>\n",
              "      <td>0.080000</td>\n",
              "      <td>0.003990</td>\n",
              "      <td>19.459270</td>\n",
              "      <td>4157500</td>\n",
              "      <td>1</td>\n",
              "    </tr>\n",
              "    <tr>\n",
              "      <th>2015-01-02</th>\n",
              "      <td>20.129999</td>\n",
              "      <td>20.280001</td>\n",
              "      <td>19.809999</td>\n",
              "      <td>20.129999</td>\n",
              "      <td>-0.339998</td>\n",
              "      <td>-0.016890</td>\n",
              "      <td>19.536913</td>\n",
              "      <td>2842000</td>\n",
              "      <td>0</td>\n",
              "    </tr>\n",
              "    <tr>\n",
              "      <th>2015-01-05</th>\n",
              "      <td>20.129999</td>\n",
              "      <td>20.190001</td>\n",
              "      <td>19.700001</td>\n",
              "      <td>19.790001</td>\n",
              "      <td>-0.600000</td>\n",
              "      <td>-0.030318</td>\n",
              "      <td>19.206934</td>\n",
              "      <td>4948800</td>\n",
              "      <td>0</td>\n",
              "    </tr>\n",
              "    <tr>\n",
              "      <th>2015-01-06</th>\n",
              "      <td>19.820000</td>\n",
              "      <td>19.840000</td>\n",
              "      <td>19.170000</td>\n",
              "      <td>19.190001</td>\n",
              "      <td>-0.050002</td>\n",
              "      <td>-0.002606</td>\n",
              "      <td>18.624611</td>\n",
              "      <td>4944100</td>\n",
              "      <td>0</td>\n",
              "    </tr>\n",
              "    <tr>\n",
              "      <th>2015-01-07</th>\n",
              "      <td>19.330000</td>\n",
              "      <td>19.500000</td>\n",
              "      <td>19.080000</td>\n",
              "      <td>19.139999</td>\n",
              "      <td>0.720002</td>\n",
              "      <td>0.037618</td>\n",
              "      <td>18.576082</td>\n",
              "      <td>8045200</td>\n",
              "      <td>1</td>\n",
              "    </tr>\n",
              "  </tbody>\n",
              "</table>\n",
              "</div>"
            ],
            "text/plain": [
              "                 Open       High        Low  ...  Adj Close   Volume  Direction\n",
              "Date                                         ...                               \n",
              "2014-12-31  20.400000  20.510000  19.990000  ...  19.459270  4157500          1\n",
              "2015-01-02  20.129999  20.280001  19.809999  ...  19.536913  2842000          0\n",
              "2015-01-05  20.129999  20.190001  19.700001  ...  19.206934  4948800          0\n",
              "2015-01-06  19.820000  19.840000  19.170000  ...  18.624611  4944100          0\n",
              "2015-01-07  19.330000  19.500000  19.080000  ...  18.576082  8045200          1\n",
              "\n",
              "[5 rows x 9 columns]"
            ]
          },
          "metadata": {
            "tags": []
          },
          "execution_count": 28
        }
      ]
    },
    {
      "cell_type": "code",
      "metadata": {
        "id": "ROB9HsCoPcqx",
        "colab_type": "code",
        "colab": {
          "base_uri": "https://localhost:8080/",
          "height": 225
        },
        "outputId": "923672f6-9b19-4704-81d6-afb53c987b6a"
      },
      "source": [
        "# Your turn to create a new column Direction for MS\n",
        "\n",
        "ms['Direction'] = [1 if ms.PriceDiff.loc[ei] > 0 else 0 for ei in ms.index]\n",
        "\n",
        "ms.head()"
      ],
      "execution_count": 31,
      "outputs": [
        {
          "output_type": "execute_result",
          "data": {
            "text/html": [
              "<div>\n",
              "<style scoped>\n",
              "    .dataframe tbody tr th:only-of-type {\n",
              "        vertical-align: middle;\n",
              "    }\n",
              "\n",
              "    .dataframe tbody tr th {\n",
              "        vertical-align: top;\n",
              "    }\n",
              "\n",
              "    .dataframe thead th {\n",
              "        text-align: right;\n",
              "    }\n",
              "</style>\n",
              "<table border=\"1\" class=\"dataframe\">\n",
              "  <thead>\n",
              "    <tr style=\"text-align: right;\">\n",
              "      <th></th>\n",
              "      <th>Open</th>\n",
              "      <th>High</th>\n",
              "      <th>Low</th>\n",
              "      <th>Close</th>\n",
              "      <th>PriceDiff</th>\n",
              "      <th>Return</th>\n",
              "      <th>Adj Close</th>\n",
              "      <th>Volume</th>\n",
              "      <th>Direction</th>\n",
              "    </tr>\n",
              "    <tr>\n",
              "      <th>Date</th>\n",
              "      <th></th>\n",
              "      <th></th>\n",
              "      <th></th>\n",
              "      <th></th>\n",
              "      <th></th>\n",
              "      <th></th>\n",
              "      <th></th>\n",
              "      <th></th>\n",
              "      <th></th>\n",
              "    </tr>\n",
              "  </thead>\n",
              "  <tbody>\n",
              "    <tr>\n",
              "      <th>2014-12-31</th>\n",
              "      <td>46.730000</td>\n",
              "      <td>47.439999</td>\n",
              "      <td>46.450001</td>\n",
              "      <td>46.450001</td>\n",
              "      <td>0.309997</td>\n",
              "      <td>0.006674</td>\n",
              "      <td>42.848763</td>\n",
              "      <td>21552500</td>\n",
              "      <td>1</td>\n",
              "    </tr>\n",
              "    <tr>\n",
              "      <th>2015-01-02</th>\n",
              "      <td>46.660000</td>\n",
              "      <td>47.419998</td>\n",
              "      <td>46.540001</td>\n",
              "      <td>46.759998</td>\n",
              "      <td>-0.429996</td>\n",
              "      <td>-0.009196</td>\n",
              "      <td>43.134731</td>\n",
              "      <td>27913900</td>\n",
              "      <td>0</td>\n",
              "    </tr>\n",
              "    <tr>\n",
              "      <th>2015-01-05</th>\n",
              "      <td>46.369999</td>\n",
              "      <td>46.730000</td>\n",
              "      <td>46.250000</td>\n",
              "      <td>46.330002</td>\n",
              "      <td>-0.680000</td>\n",
              "      <td>-0.014677</td>\n",
              "      <td>42.738068</td>\n",
              "      <td>39673900</td>\n",
              "      <td>0</td>\n",
              "    </tr>\n",
              "    <tr>\n",
              "      <th>2015-01-06</th>\n",
              "      <td>46.380001</td>\n",
              "      <td>46.750000</td>\n",
              "      <td>45.540001</td>\n",
              "      <td>45.650002</td>\n",
              "      <td>0.579998</td>\n",
              "      <td>0.012705</td>\n",
              "      <td>42.110783</td>\n",
              "      <td>36447900</td>\n",
              "      <td>1</td>\n",
              "    </tr>\n",
              "    <tr>\n",
              "      <th>2015-01-07</th>\n",
              "      <td>45.980000</td>\n",
              "      <td>46.459999</td>\n",
              "      <td>45.490002</td>\n",
              "      <td>46.230000</td>\n",
              "      <td>1.360000</td>\n",
              "      <td>0.029418</td>\n",
              "      <td>42.645817</td>\n",
              "      <td>29114100</td>\n",
              "      <td>1</td>\n",
              "    </tr>\n",
              "  </tbody>\n",
              "</table>\n",
              "</div>"
            ],
            "text/plain": [
              "                 Open       High        Low  ...  Adj Close    Volume  Direction\n",
              "Date                                         ...                                \n",
              "2014-12-31  46.730000  47.439999  46.450001  ...  42.848763  21552500          1\n",
              "2015-01-02  46.660000  47.419998  46.540001  ...  43.134731  27913900          0\n",
              "2015-01-05  46.369999  46.730000  46.250000  ...  42.738068  39673900          0\n",
              "2015-01-06  46.380001  46.750000  45.540001  ...  42.110783  36447900          1\n",
              "2015-01-07  45.980000  46.459999  45.490002  ...  42.645817  29114100          1\n",
              "\n",
              "[5 rows x 9 columns]"
            ]
          },
          "metadata": {
            "tags": []
          },
          "execution_count": 31
        }
      ]
    },
    {
      "cell_type": "code",
      "metadata": {
        "id": "gDlzh38aPcq0",
        "colab_type": "code",
        "colab": {
          "base_uri": "https://localhost:8080/",
          "height": 34
        },
        "outputId": "e7e4f090-33f9-45d0-e039-bdfd938aa6c8"
      },
      "source": [
        "# Run the following code to show the price difference on 2015-01-05\n",
        "print('Price difference on {} is {}. direction is {}'.format('2015-01-05', ms['PriceDiff'].loc['2015-01-05'], ms['Direction'].loc['2015-01-05']))"
      ],
      "execution_count": 32,
      "outputs": [
        {
          "output_type": "stream",
          "text": [
            "Price difference on 2015-01-05 is -0.6799999999999997. direction is 0\n"
          ],
          "name": "stdout"
        }
      ]
    },
    {
      "cell_type": "markdown",
      "metadata": {
        "id": "t_vNNIobPcq2",
        "colab_type": "text"
      },
      "source": [
        "** Expected Output: ** Price difference on 2015-01-05 is -0.6799999999999997. direction is 0"
      ]
    },
    {
      "cell_type": "markdown",
      "metadata": {
        "id": "b7y-NSVPPcq3",
        "colab_type": "text"
      },
      "source": [
        "## Create a new column in the DataFrame using Rolling Window calculation (.rolling()) - Moving average"
      ]
    },
    {
      "cell_type": "markdown",
      "metadata": {
        "id": "DbT_2lDBgWDx",
        "colab_type": "text"
      },
      "source": [
        "The built-in .rolling() method calculates moving average for any number of inputted days"
      ]
    },
    {
      "cell_type": "code",
      "metadata": {
        "id": "JLLztL4SPcq3",
        "colab_type": "code",
        "colab": {
          "base_uri": "https://localhost:8080/",
          "height": 477
        },
        "outputId": "fe53bf37-d6a3-4c62-94a1-157e49e7ed12"
      },
      "source": [
        "fb['ma50'] = fb['Close'].rolling(50).mean()\n",
        "\n",
        "#plot the moving average\n",
        "plt.figure(figsize=(10, 8))\n",
        "fb['ma50'].loc['2015-01-01':'2015-12-31'].plot(label='MA50')\n",
        "fb['Close'].loc['2015-01-01':'2015-12-31'].plot(label='Close')\n",
        "plt.legend()\n",
        "plt.show()"
      ],
      "execution_count": 50,
      "outputs": [
        {
          "output_type": "display_data",
          "data": {
            "image/png": "[encoded data removed]",
            "text/plain": [
              "<Figure size 720x576 with 1 Axes>"
            ]
          },
          "metadata": {
            "tags": []
          }
        }
      ]
    },
    {
      "cell_type": "code",
      "metadata": {
        "id": "-Sw6qt4KPcq6",
        "colab_type": "code",
        "colab": {
          "base_uri": "https://localhost:8080/",
          "height": 477
        },
        "outputId": "6d4baef0-3ed5-4b52-ad10-2860bf1d8c01"
      },
      "source": [
        "# You can use .rolling() to calculate any numbers of days' Moving Average. This is your turn to calculate \"60 days\"\n",
        "# moving average of Microsoft, rename it as \"ma60\". And follow the codes above in plotting a graph\n",
        "\n",
        "ms['ma60'] = ms['Close'].rolling(60).mean()\n",
        "\n",
        "#plot the moving average\n",
        "plt.figure(figsize=(10, 8))\n",
        "ms['ma60'].loc['2015-01-01':'2015-12-31'].plot(label='MA60')\n",
        "ms['Close'].loc['2015-01-01':'2015-12-31'].plot(label='Close')\n",
        "plt.legend()\n",
        "plt.show()"
      ],
      "execution_count": 51,
      "outputs": [
        {
          "output_type": "display_data",
          "data": {
            "image/png": "[encoded data removed]",
            "text/plain": [
              "<Figure size 720x576 with 1 Axes>"
            ]
          },
          "metadata": {
            "tags": []
          }
        }
      ]
    },
    {
      "cell_type": "markdown",
      "metadata": {
        "id": "x6WzBWFqPcq8",
        "colab_type": "text"
      },
      "source": [
        "** Expected Output: **"
      ]
    },
    {
      "cell_type": "markdown",
      "metadata": {
        "id": "zMdJFaH6Pcq9",
        "colab_type": "text"
      },
      "source": [
        "<img src=\"https://github.com/Blackman9t/Python_-_Statistics_for_Financial_Analysis/blob/master/MA.png?raw=true\" height=500 width=650>"
      ]
    },
    {
      "cell_type": "code",
      "metadata": {
        "id": "HjjVPpBIkaNP",
        "colab_type": "code",
        "colab": {}
      },
      "source": [
        "# run this cell to kill the notebook and free up space in colab\n",
        "\n",
        "import os, signal\n",
        "os.kill(os.getpid(), signal.SIGKILL)"
      ],
      "execution_count": 0,
      "outputs": []
    }
  ]
}
