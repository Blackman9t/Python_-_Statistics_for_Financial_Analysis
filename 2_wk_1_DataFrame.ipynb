{
  "nbformat": 4,
  "nbformat_minor": 0,
  "metadata": {
    "colab": {
      "name": "2_wk_1_DataFrame.ipynb",
      "version": "0.3.2",
      "provenance": [],
      "collapsed_sections": [],
      "include_colab_link": true
    },
    "language_info": {
      "codemirror_mode": {
        "name": "ipython",
        "version": 3
      },
      "file_extension": ".py",
      "mimetype": "text/x-python",
      "name": "python",
      "nbconvert_exporter": "python",
      "pygments_lexer": "ipython3",
      "version": "3.6.2"
    },
    "kernelspec": {
      "display_name": "Python 3",
      "language": "python",
      "name": "python3"
    }
  },
  "cells": [
    {
      "cell_type": "markdown",
      "metadata": {
        "id": "view-in-github",
        "colab_type": "text"
      },
      "source": [
        "<a href=\"https://colab.research.google.com/github/Blackman9t/Python_-_Statistics_for_Financial_Analysis/blob/master/2_wk_1_DataFrame.ipynb\" target=\"_parent\"><img src=\"https://colab.research.google.com/assets/colab-badge.svg\" alt=\"Open In Colab\"/></a>"
      ]
    },
    {
      "cell_type": "markdown",
      "metadata": {
        "id": "z79MaLlwyKN8",
        "colab_type": "text"
      },
      "source": [
        "# DataFrame"
      ]
    },
    {
      "cell_type": "markdown",
      "metadata": {
        "id": "QzTVFrJ3yMus",
        "colab_type": "text"
      },
      "source": [
        "<h3>Basics of DataFrame\n",
        "In this Jupyter Notebook, you will practice the following basics of DataFrame:\n",
        "\n",
        "1. Import stock data (in csv format) into a new DataFrame\n",
        "\n",
        "2. Display the size of a DataFrame using \".shape\"\n",
        "\n",
        "3. Display the summary statistics of a DataFrame using \".describe()\"\n",
        "\n",
        "4. Slice row(s) of data of a DataFrame using \"Selection by label\" - loc and \"Selection of position - iloc\"\n",
        "\n",
        "5. Plot the data of a DataFrame"
      ]
    },
    {
      "cell_type": "code",
      "metadata": {
        "id": "yVToUPsyyKN9",
        "colab_type": "code",
        "colab": {}
      },
      "source": [
        "#import the packages \"Pandas\" and \"MatPlotLib\" into Jupyter Notebook\n",
        "import pandas as pd\n",
        "import matplotlib.pyplot as plt\n",
        "%matplotlib inline"
      ],
      "execution_count": 0,
      "outputs": []
    },
    {
      "cell_type": "markdown",
      "metadata": {
        "id": "BPNtkaNMmZo7",
        "colab_type": "text"
      },
      "source": [
        "## About The Data\n",
        "\n",
        "**Index**: The index is the date for each observation.<br>\n",
        "**Open**: Is the opening price for this day.<br>\n",
        "**High**:  Is the highest price for this day<br>\n",
        "**Low**:  Is the lowest price for this day<br>\n",
        "**Close**:  Is the closing price for this day<br>\n",
        "**Adjust Close**:  Is a stock closing price on a given day of trading that has been adjusted  to include:<br>\n",
        "Any dispution and the corporate actions that occurred at any time before the next day's open.<br>\n",
        "**Volume**:  Is the amount of trade that occurred in a given date.<br>"
      ]
    },
    {
      "cell_type": "code",
      "metadata": {
        "id": "_cdheNvgPG3c",
        "colab_type": "code",
        "outputId": "38684d54-4b30-431f-8719-74ada12f3b60",
        "colab": {
          "base_uri": "https://localhost:8080/",
          "height": 34
        }
      },
      "source": [
        "from google.colab import drive\n",
        "drive.mount('/content/gdrive')"
      ],
      "execution_count": 0,
      "outputs": [
        {
          "output_type": "stream",
          "text": [
            "Drive already mounted at /content/gdrive; to attempt to forcibly remount, call drive.mount(\"/content/gdrive\", force_remount=True).\n"
          ],
          "name": "stdout"
        }
      ]
    },
    {
      "cell_type": "code",
      "metadata": {
        "id": "SM1CypFRyKOB",
        "colab_type": "code",
        "outputId": "bef0d086-7a50-4e95-c9de-e014f27e88ce",
        "colab": {
          "base_uri": "https://localhost:8080/",
          "height": 70
        }
      },
      "source": [
        "#import Facebook's stock data\n",
        "fb = pd.DataFrame.from_csv('/content/gdrive/My Drive/Colab_Notebooks/python_and_statistics_for_financial_analysis/data/facebook.csv')"
      ],
      "execution_count": 0,
      "outputs": [
        {
          "output_type": "stream",
          "text": [
            "/usr/local/lib/python3.6/dist-packages/ipykernel_launcher.py:1: FutureWarning: from_csv is deprecated. Please use read_csv(...) instead. Note that some of the default arguments are different, so please refer to the documentation for from_csv when changing your function calls\n",
            "  \"\"\"Entry point for launching an IPython kernel.\n"
          ],
          "name": "stderr"
        }
      ]
    },
    {
      "cell_type": "code",
      "metadata": {
        "id": "gifrSSn3yKOD",
        "colab_type": "code",
        "outputId": "4e4a4725-30c3-4b59-ba91-9ec90be405f0",
        "colab": {
          "base_uri": "https://localhost:8080/",
          "height": 134
        }
      },
      "source": [
        "print(fb.head())"
      ],
      "execution_count": 0,
      "outputs": [
        {
          "output_type": "stream",
          "text": [
            "                 Open       High        Low      Close  Adj Close   Volume\n",
            "Date                                                                      \n",
            "2014-12-31  20.400000  20.510000  19.990000  20.049999  19.459270  4157500\n",
            "2015-01-02  20.129999  20.280001  19.809999  20.129999  19.536913  2842000\n",
            "2015-01-05  20.129999  20.190001  19.700001  19.790001  19.206934  4948800\n",
            "2015-01-06  19.820000  19.840000  19.170000  19.190001  18.624611  4944100\n",
            "2015-01-07  19.330000  19.500000  19.080000  19.139999  18.576082  8045200\n"
          ],
          "name": "stdout"
        }
      ]
    },
    {
      "cell_type": "code",
      "metadata": {
        "id": "5ChHB_ENyKOI",
        "colab_type": "code",
        "colab": {}
      },
      "source": [
        "#It is your turn to import Microsoft's stock data - \"microsoft.csv\", which is located in the same folder of facebook.csv\n",
        "#Replace \"None\" with your code\n",
        "ms = pd.read_csv('/content/gdrive/My Drive/Colab_Notebooks/python_and_statistics_for_financial_analysis/data/microsoft.csv',index_col='Date')"
      ],
      "execution_count": 0,
      "outputs": []
    },
    {
      "cell_type": "code",
      "metadata": {
        "id": "dyWDgwaTyKOL",
        "colab_type": "code",
        "outputId": "2e759c90-2a74-4313-c4c9-78a25cc9f89e",
        "colab": {
          "base_uri": "https://localhost:8080/",
          "height": 225
        }
      },
      "source": [
        "# print head of ms, 1 line\n",
        "ms.head()"
      ],
      "execution_count": 0,
      "outputs": [
        {
          "output_type": "execute_result",
          "data": {
            "text/html": [
              "<div>\n",
              "<style scoped>\n",
              "    .dataframe tbody tr th:only-of-type {\n",
              "        vertical-align: middle;\n",
              "    }\n",
              "\n",
              "    .dataframe tbody tr th {\n",
              "        vertical-align: top;\n",
              "    }\n",
              "\n",
              "    .dataframe thead th {\n",
              "        text-align: right;\n",
              "    }\n",
              "</style>\n",
              "<table border=\"1\" class=\"dataframe\">\n",
              "  <thead>\n",
              "    <tr style=\"text-align: right;\">\n",
              "      <th></th>\n",
              "      <th>Open</th>\n",
              "      <th>High</th>\n",
              "      <th>Low</th>\n",
              "      <th>Close</th>\n",
              "      <th>Adj Close</th>\n",
              "      <th>Volume</th>\n",
              "    </tr>\n",
              "    <tr>\n",
              "      <th>Date</th>\n",
              "      <th></th>\n",
              "      <th></th>\n",
              "      <th></th>\n",
              "      <th></th>\n",
              "      <th></th>\n",
              "      <th></th>\n",
              "    </tr>\n",
              "  </thead>\n",
              "  <tbody>\n",
              "    <tr>\n",
              "      <th>2014-12-31</th>\n",
              "      <td>46.730000</td>\n",
              "      <td>47.439999</td>\n",
              "      <td>46.450001</td>\n",
              "      <td>46.450001</td>\n",
              "      <td>42.848763</td>\n",
              "      <td>21552500</td>\n",
              "    </tr>\n",
              "    <tr>\n",
              "      <th>2015-01-02</th>\n",
              "      <td>46.660000</td>\n",
              "      <td>47.419998</td>\n",
              "      <td>46.540001</td>\n",
              "      <td>46.759998</td>\n",
              "      <td>43.134731</td>\n",
              "      <td>27913900</td>\n",
              "    </tr>\n",
              "    <tr>\n",
              "      <th>2015-01-05</th>\n",
              "      <td>46.369999</td>\n",
              "      <td>46.730000</td>\n",
              "      <td>46.250000</td>\n",
              "      <td>46.330002</td>\n",
              "      <td>42.738068</td>\n",
              "      <td>39673900</td>\n",
              "    </tr>\n",
              "    <tr>\n",
              "      <th>2015-01-06</th>\n",
              "      <td>46.380001</td>\n",
              "      <td>46.750000</td>\n",
              "      <td>45.540001</td>\n",
              "      <td>45.650002</td>\n",
              "      <td>42.110783</td>\n",
              "      <td>36447900</td>\n",
              "    </tr>\n",
              "    <tr>\n",
              "      <th>2015-01-07</th>\n",
              "      <td>45.980000</td>\n",
              "      <td>46.459999</td>\n",
              "      <td>45.490002</td>\n",
              "      <td>46.230000</td>\n",
              "      <td>42.645817</td>\n",
              "      <td>29114100</td>\n",
              "    </tr>\n",
              "  </tbody>\n",
              "</table>\n",
              "</div>"
            ],
            "text/plain": [
              "                 Open       High        Low      Close  Adj Close    Volume\n",
              "Date                                                                       \n",
              "2014-12-31  46.730000  47.439999  46.450001  46.450001  42.848763  21552500\n",
              "2015-01-02  46.660000  47.419998  46.540001  46.759998  43.134731  27913900\n",
              "2015-01-05  46.369999  46.730000  46.250000  46.330002  42.738068  39673900\n",
              "2015-01-06  46.380001  46.750000  45.540001  45.650002  42.110783  36447900\n",
              "2015-01-07  45.980000  46.459999  45.490002  46.230000  42.645817  29114100"
            ]
          },
          "metadata": {
            "tags": []
          },
          "execution_count": 137
        }
      ]
    },
    {
      "cell_type": "markdown",
      "metadata": {
        "id": "ZIPRqBF8yKOO",
        "colab_type": "text"
      },
      "source": [
        "** Expected Output: **"
      ]
    },
    {
      "cell_type": "markdown",
      "metadata": {
        "id": "IfZT94-5yKOO",
        "colab_type": "text"
      },
      "source": [
        "<tr>\n",
        "    <th>Date</th>\n",
        "    <th>Open</th>  \n",
        "    <th>High</th>\n",
        "    <th>Low</th>\n",
        "    <th>Close</th>\n",
        "    <th>Adj Close</th>\n",
        "    <th>Volume</th>\n",
        "</tr>\n",
        "<tr>\n",
        "    <td>2014-12-31</td>\n",
        "    <td>46.730000</td>  \n",
        "    <td>47.439999</td>\n",
        "    <td>46.450001</td>\n",
        "    <td>46.450001</td>\n",
        "    <td>42.848763</td>\n",
        "    <td>21552500</td>\n",
        "</tr>\n",
        "<tr>\n",
        "    <td>2015-01-02</td>\n",
        "    <td>46.660000</td>  \n",
        "    <td>47.419998</td>\n",
        "    <td>46.540001</td>\n",
        "    <td>46.759998</td>\n",
        "    <td>43.134731</td>\n",
        "    <td>27913900</td>\n",
        "</tr>\n",
        "<tr>\n",
        "    <td>2015-01-05</td>\n",
        "    <td>46.369999</td>  \n",
        "    <td>46.730000</td>\n",
        "    <td>46.250000</td>\n",
        "    <td>46.330002</td>\n",
        "    <td>42.738068</td>\n",
        "    <td>39673900</td>\n",
        "</tr>\n",
        "<tr>\n",
        "    <td>2015-01-06</td>\n",
        "    <td>46.380001</td>  \n",
        "    <td>46.750000</td>\n",
        "    <td>45.540001</td>\n",
        "    <td>45.650002</td>\n",
        "    <td>42.110783</td>\n",
        "    <td>36447900</td>\n",
        "</tr>\n",
        "<tr>\n",
        "    <td>2015-01-07</td>\n",
        "    <td>45.980000</td>  \n",
        "    <td>46.459999</td>\n",
        "    <td>45.490002</td>\n",
        "    <td>46.230000</td>\n",
        "    <td>42.645817</td>\n",
        "    <td>29114100</td>\n",
        "</tr>\n"
      ]
    },
    {
      "cell_type": "markdown",
      "metadata": {
        "id": "no5HP3l5yKOP",
        "colab_type": "text"
      },
      "source": [
        "## Show the size of a DataFrame using \"Shape\""
      ]
    },
    {
      "cell_type": "code",
      "metadata": {
        "id": "oNAOgp2-yKOQ",
        "colab_type": "code",
        "outputId": "10353e56-cf54-425b-a882-547e4a647845",
        "colab": {
          "base_uri": "https://localhost:8080/",
          "height": 34
        }
      },
      "source": [
        "print(fb.shape)"
      ],
      "execution_count": 0,
      "outputs": [
        {
          "output_type": "stream",
          "text": [
            "(780, 6)\n"
          ],
          "name": "stdout"
        }
      ]
    },
    {
      "cell_type": "code",
      "metadata": {
        "id": "5r4IThHUyKOU",
        "colab_type": "code",
        "outputId": "39eb614c-83a8-48c5-98fc-2fa891c1c1ee",
        "colab": {
          "base_uri": "https://localhost:8080/",
          "height": 34
        }
      },
      "source": [
        "# print the shape of ms, 1 line\n",
        "print(ms.shape)"
      ],
      "execution_count": 0,
      "outputs": [
        {
          "output_type": "stream",
          "text": [
            "(780, 6)\n"
          ],
          "name": "stdout"
        }
      ]
    },
    {
      "cell_type": "markdown",
      "metadata": {
        "id": "rmhN8zwSyKOX",
        "colab_type": "text"
      },
      "source": [
        "## Show summary statistics of a DataFrame"
      ]
    },
    {
      "cell_type": "code",
      "metadata": {
        "id": "g1UN1MkLyKOY",
        "colab_type": "code",
        "outputId": "68bae327-5390-4b12-8b21-b4c14a1163fe",
        "colab": {
          "base_uri": "https://localhost:8080/",
          "height": 168
        }
      },
      "source": [
        "# print summary statistics of Facebook\n",
        "print(fb.describe(percentiles=[0.1,.25,.5,.99]).T)"
      ],
      "execution_count": 0,
      "outputs": [
        {
          "output_type": "stream",
          "text": [
            "           count          mean  ...           99%           max\n",
            "Open       780.0  8.021271e+01  ...  2.360915e+02  2.457700e+02\n",
            "High       780.0  8.128565e+01  ...  2.383438e+02  2.492700e+02\n",
            "Low        780.0  7.902240e+01  ...  2.316698e+02  2.444500e+02\n",
            "Close      780.0  8.026490e+01  ...  2.341331e+02  2.468500e+02\n",
            "Adj Close  780.0  7.991421e+01  ...  2.341331e+02  2.468500e+02\n",
            "Volume     780.0  1.204453e+07  ...  4.218013e+07  9.232320e+07\n",
            "\n",
            "[6 rows x 9 columns]\n"
          ],
          "name": "stdout"
        }
      ]
    },
    {
      "cell_type": "code",
      "metadata": {
        "id": "NMM8BmuNyKOb",
        "colab_type": "code",
        "outputId": "eff50f22-a493-4a47-96a0-1d0193432ae2",
        "colab": {
          "base_uri": "https://localhost:8080/",
          "height": 168
        }
      },
      "source": [
        "# print summary statistics of Microsoft\n",
        "print(ms.describe())"
      ],
      "execution_count": 0,
      "outputs": [
        {
          "output_type": "stream",
          "text": [
            "             Open        High         Low       Close   Adj Close        Volume\n",
            "count  780.000000  780.000000  780.000000  780.000000  780.000000  7.800000e+02\n",
            "mean    58.912308   59.372308   58.465000   58.945397   56.931553  2.978900e+07\n",
            "std     12.852040   12.868060   12.802831   12.830350   13.670080  1.522319e+07\n",
            "min     40.340000   40.740002   39.720001   40.290001   37.267815  7.425600e+06\n",
            "25%     47.894998   48.295000   47.535001   47.974998   44.792073  2.096685e+07\n",
            "50%     56.150002   56.640001   55.700001   56.209999   53.775458  2.623125e+07\n",
            "75%     67.892500   68.174997   67.447500   67.740000   66.565508  3.408020e+07\n",
            "max     95.139999   96.070000   93.720001   95.010002   94.565781  1.691640e+08\n"
          ],
          "name": "stdout"
        }
      ]
    },
    {
      "cell_type": "markdown",
      "metadata": {
        "id": "SoYN7sVjyKOe",
        "colab_type": "text"
      },
      "source": [
        "## Locate a particular row of data using \"Selection by label\""
      ]
    },
    {
      "cell_type": "code",
      "metadata": {
        "id": "6Cq6MA6uyKOf",
        "colab_type": "code",
        "outputId": "4c6437ac-1698-4737-8683-5d67e451fcbe",
        "colab": {
          "base_uri": "https://localhost:8080/",
          "height": 225
        }
      },
      "source": [
        "# select all the price information of Facebook in 2016.\n",
        "fb_2015 = fb.loc['2015-01-01':'2015-12-31']\n",
        "fb_2015.head()"
      ],
      "execution_count": 0,
      "outputs": [
        {
          "output_type": "execute_result",
          "data": {
            "text/html": [
              "<div>\n",
              "<style scoped>\n",
              "    .dataframe tbody tr th:only-of-type {\n",
              "        vertical-align: middle;\n",
              "    }\n",
              "\n",
              "    .dataframe tbody tr th {\n",
              "        vertical-align: top;\n",
              "    }\n",
              "\n",
              "    .dataframe thead th {\n",
              "        text-align: right;\n",
              "    }\n",
              "</style>\n",
              "<table border=\"1\" class=\"dataframe\">\n",
              "  <thead>\n",
              "    <tr style=\"text-align: right;\">\n",
              "      <th></th>\n",
              "      <th>Open</th>\n",
              "      <th>High</th>\n",
              "      <th>Low</th>\n",
              "      <th>Close</th>\n",
              "      <th>Adj Close</th>\n",
              "      <th>Volume</th>\n",
              "    </tr>\n",
              "    <tr>\n",
              "      <th>Date</th>\n",
              "      <th></th>\n",
              "      <th></th>\n",
              "      <th></th>\n",
              "      <th></th>\n",
              "      <th></th>\n",
              "      <th></th>\n",
              "    </tr>\n",
              "  </thead>\n",
              "  <tbody>\n",
              "    <tr>\n",
              "      <th>2015-01-02</th>\n",
              "      <td>20.129999</td>\n",
              "      <td>20.280001</td>\n",
              "      <td>19.809999</td>\n",
              "      <td>20.129999</td>\n",
              "      <td>19.536913</td>\n",
              "      <td>2842000</td>\n",
              "    </tr>\n",
              "    <tr>\n",
              "      <th>2015-01-05</th>\n",
              "      <td>20.129999</td>\n",
              "      <td>20.190001</td>\n",
              "      <td>19.700001</td>\n",
              "      <td>19.790001</td>\n",
              "      <td>19.206934</td>\n",
              "      <td>4948800</td>\n",
              "    </tr>\n",
              "    <tr>\n",
              "      <th>2015-01-06</th>\n",
              "      <td>19.820000</td>\n",
              "      <td>19.840000</td>\n",
              "      <td>19.170000</td>\n",
              "      <td>19.190001</td>\n",
              "      <td>18.624611</td>\n",
              "      <td>4944100</td>\n",
              "    </tr>\n",
              "    <tr>\n",
              "      <th>2015-01-07</th>\n",
              "      <td>19.330000</td>\n",
              "      <td>19.500000</td>\n",
              "      <td>19.080000</td>\n",
              "      <td>19.139999</td>\n",
              "      <td>18.576082</td>\n",
              "      <td>8045200</td>\n",
              "    </tr>\n",
              "    <tr>\n",
              "      <th>2015-01-08</th>\n",
              "      <td>19.360001</td>\n",
              "      <td>19.980000</td>\n",
              "      <td>19.350000</td>\n",
              "      <td>19.860001</td>\n",
              "      <td>19.274870</td>\n",
              "      <td>7094500</td>\n",
              "    </tr>\n",
              "  </tbody>\n",
              "</table>\n",
              "</div>"
            ],
            "text/plain": [
              "                 Open       High        Low      Close  Adj Close   Volume\n",
              "Date                                                                      \n",
              "2015-01-02  20.129999  20.280001  19.809999  20.129999  19.536913  2842000\n",
              "2015-01-05  20.129999  20.190001  19.700001  19.790001  19.206934  4948800\n",
              "2015-01-06  19.820000  19.840000  19.170000  19.190001  18.624611  4944100\n",
              "2015-01-07  19.330000  19.500000  19.080000  19.139999  18.576082  8045200\n",
              "2015-01-08  19.360001  19.980000  19.350000  19.860001  19.274870  7094500"
            ]
          },
          "metadata": {
            "tags": []
          },
          "execution_count": 142
        }
      ]
    },
    {
      "cell_type": "code",
      "metadata": {
        "id": "56LECBvkyKOh",
        "colab_type": "code",
        "outputId": "6bfbff73-175d-474a-9893-e2adfedf97d1",
        "colab": {
          "base_uri": "https://localhost:8080/",
          "height": 134
        }
      },
      "source": [
        "# print the price of Facebook on '2015-03-13'\n",
        "print(fb_2015.loc['2015-03-13'].to_frame())"
      ],
      "execution_count": 0,
      "outputs": [
        {
          "output_type": "stream",
          "text": [
            "             2015-03-13\n",
            "Open       2.256000e+01\n",
            "High       2.276000e+01\n",
            "Low        2.225000e+01\n",
            "Close      2.270000e+01\n",
            "Adj Close  2.211602e+01\n",
            "Volume     8.982200e+06\n"
          ],
          "name": "stdout"
        }
      ]
    },
    {
      "cell_type": "code",
      "metadata": {
        "id": "axl6JkRzyKOl",
        "colab_type": "code",
        "outputId": "cfdae782-e435-45dd-cdb3-9f479a4a0948",
        "colab": {
          "base_uri": "https://localhost:8080/",
          "height": 225
        }
      },
      "source": [
        "# select all the price information of Microsoft in 2016.\n",
        "ms_2016 = ms.loc['2016-01-01':'2016-12-31']\n",
        "ms_2016.tail()"
      ],
      "execution_count": 0,
      "outputs": [
        {
          "output_type": "execute_result",
          "data": {
            "text/html": [
              "<div>\n",
              "<style scoped>\n",
              "    .dataframe tbody tr th:only-of-type {\n",
              "        vertical-align: middle;\n",
              "    }\n",
              "\n",
              "    .dataframe tbody tr th {\n",
              "        vertical-align: top;\n",
              "    }\n",
              "\n",
              "    .dataframe thead th {\n",
              "        text-align: right;\n",
              "    }\n",
              "</style>\n",
              "<table border=\"1\" class=\"dataframe\">\n",
              "  <thead>\n",
              "    <tr style=\"text-align: right;\">\n",
              "      <th></th>\n",
              "      <th>Open</th>\n",
              "      <th>High</th>\n",
              "      <th>Low</th>\n",
              "      <th>Close</th>\n",
              "      <th>Adj Close</th>\n",
              "      <th>Volume</th>\n",
              "    </tr>\n",
              "    <tr>\n",
              "      <th>Date</th>\n",
              "      <th></th>\n",
              "      <th></th>\n",
              "      <th></th>\n",
              "      <th></th>\n",
              "      <th></th>\n",
              "      <th></th>\n",
              "    </tr>\n",
              "  </thead>\n",
              "  <tbody>\n",
              "    <tr>\n",
              "      <th>2016-12-23</th>\n",
              "      <td>63.450001</td>\n",
              "      <td>63.540001</td>\n",
              "      <td>62.799999</td>\n",
              "      <td>63.240002</td>\n",
              "      <td>61.569557</td>\n",
              "      <td>12398000</td>\n",
              "    </tr>\n",
              "    <tr>\n",
              "      <th>2016-12-27</th>\n",
              "      <td>63.209999</td>\n",
              "      <td>64.070000</td>\n",
              "      <td>63.209999</td>\n",
              "      <td>63.279999</td>\n",
              "      <td>61.608490</td>\n",
              "      <td>11763200</td>\n",
              "    </tr>\n",
              "    <tr>\n",
              "      <th>2016-12-28</th>\n",
              "      <td>63.400002</td>\n",
              "      <td>63.400002</td>\n",
              "      <td>62.830002</td>\n",
              "      <td>62.990002</td>\n",
              "      <td>61.326157</td>\n",
              "      <td>14653300</td>\n",
              "    </tr>\n",
              "    <tr>\n",
              "      <th>2016-12-29</th>\n",
              "      <td>62.860001</td>\n",
              "      <td>63.200001</td>\n",
              "      <td>62.730000</td>\n",
              "      <td>62.900002</td>\n",
              "      <td>61.238541</td>\n",
              "      <td>10181600</td>\n",
              "    </tr>\n",
              "    <tr>\n",
              "      <th>2016-12-30</th>\n",
              "      <td>62.959999</td>\n",
              "      <td>62.990002</td>\n",
              "      <td>62.029999</td>\n",
              "      <td>62.139999</td>\n",
              "      <td>60.498604</td>\n",
              "      <td>25579900</td>\n",
              "    </tr>\n",
              "  </tbody>\n",
              "</table>\n",
              "</div>"
            ],
            "text/plain": [
              "                 Open       High        Low      Close  Adj Close    Volume\n",
              "Date                                                                       \n",
              "2016-12-23  63.450001  63.540001  62.799999  63.240002  61.569557  12398000\n",
              "2016-12-27  63.209999  64.070000  63.209999  63.279999  61.608490  11763200\n",
              "2016-12-28  63.400002  63.400002  62.830002  62.990002  61.326157  14653300\n",
              "2016-12-29  62.860001  63.200001  62.730000  62.900002  61.238541  10181600\n",
              "2016-12-30  62.959999  62.990002  62.029999  62.139999  60.498604  25579900"
            ]
          },
          "metadata": {
            "tags": []
          },
          "execution_count": 144
        }
      ]
    },
    {
      "cell_type": "code",
      "metadata": {
        "id": "sNPBkAY6yKOo",
        "colab_type": "code",
        "outputId": "092f27af-7a8e-4723-8a6e-a34c3ca67e89",
        "colab": {
          "base_uri": "https://localhost:8080/",
          "height": 134
        }
      },
      "source": [
        "# print the price of Microsoft on '2016-03-16'\n",
        "ms.loc['2016-03-16']"
      ],
      "execution_count": 0,
      "outputs": [
        {
          "output_type": "execute_result",
          "data": {
            "text/plain": [
              "Open         5.345000e+01\n",
              "High         5.460000e+01\n",
              "Low          5.340000e+01\n",
              "Close        5.435000e+01\n",
              "Adj Close    5.187095e+01\n",
              "Volume       3.169170e+07\n",
              "Name: 2016-03-16, dtype: float64"
            ]
          },
          "metadata": {
            "tags": []
          },
          "execution_count": 145
        }
      ]
    },
    {
      "cell_type": "markdown",
      "metadata": {
        "id": "M3a6hfu9yKOr",
        "colab_type": "text"
      },
      "source": [
        "** Expected Output: **"
      ]
    },
    {
      "cell_type": "markdown",
      "metadata": {
        "id": "i1Nqgjl2yKOs",
        "colab_type": "text"
      },
      "source": [
        "<tr>\n",
        "    <td>Open</td>\n",
        "    <td>5.345000e+01</td>\n",
        "</tr>\n",
        "<tr>\n",
        "    <td>High</td>\n",
        "    <td>5.460000e+01</td>\n",
        "</tr>\n",
        "<tr>\n",
        "    <td>Low</td>\n",
        "    <td>5.340000e+01</td>\n",
        "</tr>\n",
        "<tr>\n",
        "    <td>Close</td>\n",
        "    <td>5.435000e+01</td>\n",
        "</tr>\n",
        "<tr>\n",
        "    <td>Adj Close</td>\n",
        "    <td>5.187095e+01</td>\n",
        "</tr>\n",
        "<tr>\n",
        "    <td>Volume</td>\n",
        "    <td>3.169170e+07</td>\n",
        "</tr>"
      ]
    },
    {
      "cell_type": "markdown",
      "metadata": {
        "id": "5RiWHXgkyKOt",
        "colab_type": "text"
      },
      "source": [
        "## Locate a particular row of data using \"Selection by position\""
      ]
    },
    {
      "cell_type": "code",
      "metadata": {
        "id": "xW892aHLyKOt",
        "colab_type": "code",
        "outputId": "9bbca805-6a7a-4ca4-8336-a9ea1d3156a5",
        "colab": {
          "base_uri": "https://localhost:8080/",
          "height": 34
        }
      },
      "source": [
        "# print the opening price of the first row\n",
        "print(fb.iloc[0, 0])"
      ],
      "execution_count": 0,
      "outputs": [
        {
          "output_type": "stream",
          "text": [
            "20.4\n"
          ],
          "name": "stdout"
        }
      ]
    },
    {
      "cell_type": "code",
      "metadata": {
        "id": "jL0kN59ryKOz",
        "colab_type": "code",
        "outputId": "4a853559-1193-4edd-b08c-338b98b30233",
        "colab": {
          "base_uri": "https://localhost:8080/",
          "height": 34
        }
      },
      "source": [
        "# print the opening price of the last row for microsoft\n",
        "print(ms.iloc[-1,0])"
      ],
      "execution_count": 0,
      "outputs": [
        {
          "output_type": "stream",
          "text": [
            "90.559998\n"
          ],
          "name": "stdout"
        }
      ]
    },
    {
      "cell_type": "markdown",
      "metadata": {
        "id": "CeMQXM0EyKO3",
        "colab_type": "text"
      },
      "source": [
        "** Expected Output: ** 90.559998"
      ]
    },
    {
      "cell_type": "markdown",
      "metadata": {
        "id": "GulxutCUyKO4",
        "colab_type": "text"
      },
      "source": [
        "## Plot the stock data using plot() method"
      ]
    },
    {
      "cell_type": "code",
      "metadata": {
        "id": "qJkH7o92yKO5",
        "colab_type": "code",
        "outputId": "a5eb0650-4619-4cc9-b05f-ac8ed87772f2",
        "colab": {
          "base_uri": "https://localhost:8080/",
          "height": 484
        }
      },
      "source": [
        "fb.plot(figsize=(10,8))\n",
        "plt.xticks(color='khaki')\n",
        "plt.yticks(color='khaki')\n",
        "plt.xlabel('Date',color='w')\n",
        "plt.show()"
      ],
      "execution_count": 0,
      "outputs": [
        {
          "output_type": "display_data",
          "data": {
            "image/png": "[encoded data removed]",
            "text/plain": [
              "<Figure size 720x576 with 1 Axes>"
            ]
          },
          "metadata": {
            "tags": []
          }
        }
      ]
    },
    {
      "cell_type": "code",
      "metadata": {
        "id": "6of3wPGMyKO9",
        "colab_type": "code",
        "outputId": "0b70a286-657a-47bb-c874-d554795f660d",
        "colab": {
          "base_uri": "https://localhost:8080/",
          "height": 392
        }
      },
      "source": [
        "# plot only the Close price of 2016 of Microsoft, 1 line \n",
        "ms.loc['2016-01-01':'2016-12-31','Close'].plot(figsize=(10,6))\n",
        "plt.xticks(color='khaki')\n",
        "plt.yticks(color='khaki')\n",
        "plt.show()"
      ],
      "execution_count": 0,
      "outputs": [
        {
          "output_type": "display_data",
          "data": {
            "image/png": "[encoded data removed]",
            "text/plain": [
              "<Figure size 720x432 with 1 Axes>"
            ]
          },
          "metadata": {
            "tags": []
          }
        }
      ]
    },
    {
      "cell_type": "markdown",
      "metadata": {
        "id": "AC_fujDbyKPA",
        "colab_type": "text"
      },
      "source": [
        "** Expected Ouput: **"
      ]
    },
    {
      "cell_type": "code",
      "metadata": {
        "id": "CV6uHKrsSLqD",
        "colab_type": "code",
        "outputId": "d6307f89-69ee-4f67-c900-2887bbebf39b",
        "colab": {
          "base_uri": "https://localhost:8080/",
          "height": 530
        }
      },
      "source": [
        "from PIL import Image\n",
        "jpgfile_1 = Image.open('/content/gdrive/My Drive/Colab_Notebooks/python_and_statistics_for_financial_analysis/week_1/MS2016.png')\n",
        " \n",
        "print('Initial size:', jpgfile_1.size, jpgfile_1.format)\n",
        "\n",
        "# reducing the size of the image\n",
        "\n",
        "basewidth = 600\n",
        "wpercent = (basewidth/float(jpgfile_1.size[0]))\n",
        "hsize = int((float(jpgfile_1.size[1])*float(wpercent)))\n",
        "jpgfile_1 = jpgfile_1.resize((basewidth,hsize), Image.ANTIALIAS)\n",
        "#jpgfile.save('/content/gdrive/My Drive/Colab_Notebooks/plural_sight/open_modes.png') \n",
        "\n",
        "print('Size reduced to:', jpgfile_1.size, jpgfile_1.format)\n",
        "jpgfile_1"
      ],
      "execution_count": 0,
      "outputs": [
        {
          "output_type": "stream",
          "text": [
            "Initial size: (720, 576) PNG\n",
            "Size reduced to: (600, 480) None\n"
          ],
          "name": "stdout"
        },
        {
          "output_type": "execute_result",
          "data": {
            "image/png": "[encoded data removed]",
            "text/plain": [
              "<PIL.Image.Image image mode=RGBA size=600x480 at 0x7FE9CD0FB4A8>"
            ]
          },
          "metadata": {
            "tags": []
          },
          "execution_count": 150
        }
      ]
    },
    {
      "cell_type": "markdown",
      "metadata": {
        "id": "vYlGzc0gyKPB",
        "colab_type": "text"
      },
      "source": [
        "<img src=\"MS2016.png\">"
      ]
    },
    {
      "cell_type": "markdown",
      "metadata": {
        "id": "9bDGdBHNP3IP",
        "colab_type": "text"
      },
      "source": [
        "Finally run below cell to kill this notebook and free up space in colab"
      ]
    },
    {
      "cell_type": "code",
      "metadata": {
        "id": "SHt-pTiiD3ay",
        "colab_type": "code",
        "colab": {}
      },
      "source": [
        "import os, signal\n",
        "os.kill(os.getpid(),signal.SIGKILL)"
      ],
      "execution_count": 0,
      "outputs": []
    }
  ]
}