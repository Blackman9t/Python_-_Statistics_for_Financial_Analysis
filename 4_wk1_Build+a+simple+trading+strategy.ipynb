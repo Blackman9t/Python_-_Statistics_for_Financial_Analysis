{
  "nbformat": 4,
  "nbformat_minor": 0,
  "metadata": {
    "colab": {
      "name": "4_wk1_Build+a+simple+trading+strategy.ipynb",
      "version": "0.3.2",
      "provenance": [],
      "include_colab_link": true
    },
    "language_info": {
      "codemirror_mode": {
        "name": "ipython",
        "version": 3
      },
      "file_extension": ".py",
      "mimetype": "text/x-python",
      "name": "python",
      "nbconvert_exporter": "python",
      "pygments_lexer": "ipython3",
      "version": "3.6.2"
    },
    "kernelspec": {
      "display_name": "Python 3",
      "language": "python",
      "name": "python3"
    }
  },
  "cells": [
    {
      "cell_type": "markdown",
      "metadata": {
        "id": "view-in-github",
        "colab_type": "text"
      },
      "source": [
        "<a href=\"https://colab.research.google.com/github/Blackman9t/Python_-_Statistics_for_Financial_Analysis/blob/master/4_wk1_Build%2Ba%2Bsimple%2Btrading%2Bstrategy.ipynb\" target=\"_parent\"><img src=\"https://colab.research.google.com/assets/colab-badge.svg\" alt=\"Open In Colab\"/></a>"
      ]
    },
    {
      "cell_type": "markdown",
      "metadata": {
        "id": "aJ-jn-i0rzJE",
        "colab_type": "text"
      },
      "source": [
        "## Build a simple trading strategy "
      ]
    },
    {
      "cell_type": "code",
      "metadata": {
        "id": "-tz_j51YrzJG",
        "colab_type": "code",
        "colab": {}
      },
      "source": [
        "import pandas as pd\n",
        "import matplotlib.pyplot as plt\n",
        "%matplotlib inline"
      ],
      "execution_count": 0,
      "outputs": []
    },
    {
      "cell_type": "markdown",
      "metadata": {
        "id": "9v6h9dbAr85u",
        "colab_type": "text"
      },
      "source": [
        "##About The Data<br>\n",
        "Index: The index is the date for each observation.<br>\n",
        "Open: Is the opening price for this day.<br>\n",
        "High: Is the highest price for this day<br>\n",
        "Low: Is the lowest price for this day<br>\n",
        "Close: Is the closing price for this day<br>\n",
        "Adjust Close: Is a stock closing price on a given day of trading that has been adjusted to include:<br>\n",
        "Any dispution and the corporate actions that occurred at any time before the next day's open.<br>\n",
        "Volume: Is the amount of trade that occurred in a given date."
      ]
    },
    {
      "cell_type": "markdown",
      "metadata": {
        "id": "UbT0QpHhrzJL",
        "colab_type": "text"
      },
      "source": [
        "### 1. Munging the stock data and add two columns - MA10 and MA50"
      ]
    },
    {
      "cell_type": "code",
      "metadata": {
        "id": "aP7hP2QArzJM",
        "colab_type": "code",
        "colab": {
          "base_uri": "https://localhost:8080/",
          "height": 278
        },
        "outputId": "58b62287-8deb-4d01-9c54-5698418ffa14"
      },
      "source": [
        "#import FB's stock data, add two columns - MA10 and MA50\n",
        "#use dropna to remove any \"Not a Number\" data\n",
        "fb = pd.DataFrame.from_csv('https://raw.githubusercontent.com/Blackman9t/Python_-_Statistics_for_Financial_Analysis/master/facebook.csv')\n",
        "fb['MA10'] = fb['Close'].rolling(10).mean()\n",
        "fb['MA50'] = fb['Close'].rolling(50).mean()\n",
        "fb = fb.dropna()\n",
        "fb.head()"
      ],
      "execution_count": 3,
      "outputs": [
        {
          "output_type": "stream",
          "text": [
            "/usr/local/lib/python3.6/dist-packages/ipykernel_launcher.py:1: FutureWarning: from_csv is deprecated. Please use read_csv(...) instead. Note that some of the default arguments are different, so please refer to the documentation for from_csv when changing your function calls\n",
            "  \"\"\"Entry point for launching an IPython kernel.\n"
          ],
          "name": "stderr"
        },
        {
          "output_type": "execute_result",
          "data": {
            "text/html": [
              "<div>\n",
              "<style scoped>\n",
              "    .dataframe tbody tr th:only-of-type {\n",
              "        vertical-align: middle;\n",
              "    }\n",
              "\n",
              "    .dataframe tbody tr th {\n",
              "        vertical-align: top;\n",
              "    }\n",
              "\n",
              "    .dataframe thead th {\n",
              "        text-align: right;\n",
              "    }\n",
              "</style>\n",
              "<table border=\"1\" class=\"dataframe\">\n",
              "  <thead>\n",
              "    <tr style=\"text-align: right;\">\n",
              "      <th></th>\n",
              "      <th>Open</th>\n",
              "      <th>High</th>\n",
              "      <th>Low</th>\n",
              "      <th>Close</th>\n",
              "      <th>Adj Close</th>\n",
              "      <th>Volume</th>\n",
              "      <th>MA10</th>\n",
              "      <th>MA50</th>\n",
              "    </tr>\n",
              "    <tr>\n",
              "      <th>Date</th>\n",
              "      <th></th>\n",
              "      <th></th>\n",
              "      <th></th>\n",
              "      <th></th>\n",
              "      <th></th>\n",
              "      <th></th>\n",
              "      <th></th>\n",
              "      <th></th>\n",
              "    </tr>\n",
              "  </thead>\n",
              "  <tbody>\n",
              "    <tr>\n",
              "      <th>2015-03-13</th>\n",
              "      <td>22.559999</td>\n",
              "      <td>22.760000</td>\n",
              "      <td>22.250000</td>\n",
              "      <td>22.700001</td>\n",
              "      <td>22.116024</td>\n",
              "      <td>8982200</td>\n",
              "      <td>22.648</td>\n",
              "      <td>21.0174</td>\n",
              "    </tr>\n",
              "    <tr>\n",
              "      <th>2015-03-16</th>\n",
              "      <td>22.879999</td>\n",
              "      <td>23.110001</td>\n",
              "      <td>22.730000</td>\n",
              "      <td>22.969999</td>\n",
              "      <td>22.379078</td>\n",
              "      <td>5923900</td>\n",
              "      <td>22.685</td>\n",
              "      <td>21.0758</td>\n",
              "    </tr>\n",
              "    <tr>\n",
              "      <th>2015-03-17</th>\n",
              "      <td>22.920000</td>\n",
              "      <td>23.260000</td>\n",
              "      <td>22.760000</td>\n",
              "      <td>23.250000</td>\n",
              "      <td>22.651876</td>\n",
              "      <td>7497500</td>\n",
              "      <td>22.792</td>\n",
              "      <td>21.1382</td>\n",
              "    </tr>\n",
              "    <tr>\n",
              "      <th>2015-03-18</th>\n",
              "      <td>23.250000</td>\n",
              "      <td>23.370001</td>\n",
              "      <td>22.660000</td>\n",
              "      <td>22.870001</td>\n",
              "      <td>22.281652</td>\n",
              "      <td>10337600</td>\n",
              "      <td>22.836</td>\n",
              "      <td>21.1998</td>\n",
              "    </tr>\n",
              "    <tr>\n",
              "      <th>2015-03-19</th>\n",
              "      <td>22.950001</td>\n",
              "      <td>23.299999</td>\n",
              "      <td>22.780001</td>\n",
              "      <td>23.219999</td>\n",
              "      <td>22.622650</td>\n",
              "      <td>7768900</td>\n",
              "      <td>22.872</td>\n",
              "      <td>21.2804</td>\n",
              "    </tr>\n",
              "  </tbody>\n",
              "</table>\n",
              "</div>"
            ],
            "text/plain": [
              "                 Open       High        Low  ...    Volume    MA10     MA50\n",
              "Date                                         ...                           \n",
              "2015-03-13  22.559999  22.760000  22.250000  ...   8982200  22.648  21.0174\n",
              "2015-03-16  22.879999  23.110001  22.730000  ...   5923900  22.685  21.0758\n",
              "2015-03-17  22.920000  23.260000  22.760000  ...   7497500  22.792  21.1382\n",
              "2015-03-18  23.250000  23.370001  22.660000  ...  10337600  22.836  21.1998\n",
              "2015-03-19  22.950001  23.299999  22.780001  ...   7768900  22.872  21.2804\n",
              "\n",
              "[5 rows x 8 columns]"
            ]
          },
          "metadata": {
            "tags": []
          },
          "execution_count": 3
        }
      ]
    },
    {
      "cell_type": "markdown",
      "metadata": {
        "id": "OPG6D2BMrzJR",
        "colab_type": "text"
      },
      "source": [
        "### 2. Add \"Shares\" column to make decisions base on the strategy "
      ]
    },
    {
      "cell_type": "code",
      "metadata": {
        "id": "9X68IG6SrzJS",
        "colab_type": "code",
        "colab": {}
      },
      "source": [
        "#Add a new column \"Shares\", if MA10>MA50, denote as 1 (long one share of stock), otherwise, denote as 0 (do nothing)\n",
        "\n",
        "fb['Shares'] = [1 if fb.loc[ei, 'MA10']>fb.loc[ei, 'MA50'] else 0 for ei in fb.index]"
      ],
      "execution_count": 0,
      "outputs": []
    },
    {
      "cell_type": "code",
      "metadata": {
        "id": "Ep3u5_aarzJV",
        "colab_type": "code",
        "colab": {
          "base_uri": "https://localhost:8080/",
          "height": 298
        },
        "outputId": "44a94f5f-3120-4d93-dbe5-b504ec7f256e"
      },
      "source": [
        "#Add a new column \"Profit\" using List Comprehension, for any rows in fb, if Shares=1, the profit is calculated as the close price of \n",
        "#tomorrow - the close price of today. Otherwise the profit is 0.\n",
        "\n",
        "#Plot a graph to show the Profit/Loss\n",
        "\n",
        "fb['Close1'] = fb['Close'].shift(-1)\n",
        "fb['Profit'] = [fb.loc[ei, 'Close1'] - fb.loc[ei, 'Close'] if fb.loc[ei, 'Shares']==1 else 0 for ei in fb.index]\n",
        "fb['Profit'].plot()\n",
        "plt.axhline(y=0, color='red')"
      ],
      "execution_count": 5,
      "outputs": [
        {
          "output_type": "execute_result",
          "data": {
            "text/plain": [
              "<matplotlib.lines.Line2D at 0x7f2e064cadd8>"
            ]
          },
          "metadata": {
            "tags": []
          },
          "execution_count": 5
        },
        {
          "output_type": "display_data",
          "data": {
            "image/png": "[encoded data removed]",
            "text/plain": [
              "<Figure size 432x288 with 1 Axes>"
            ]
          },
          "metadata": {
            "tags": []
          }
        }
      ]
    },
    {
      "cell_type": "markdown",
      "metadata": {
        "id": "i0Olhc_CrzJY",
        "colab_type": "text"
      },
      "source": [
        "### 3. Use .cumsum() to display our model's performance if we follow the strategy "
      ]
    },
    {
      "cell_type": "code",
      "metadata": {
        "id": "OK0G8om3rzJZ",
        "colab_type": "code",
        "colab": {
          "base_uri": "https://localhost:8080/",
          "height": 225
        },
        "outputId": "72549b94-6ac8-4e9c-c575-a0a5a1b09c7d"
      },
      "source": [
        "#Use .cumsum() to calculate the accumulated wealth over the period\n",
        "\n",
        "fb['wealth'] = fb['Profit'].cumsum()\n",
        "fb.tail()"
      ],
      "execution_count": 6,
      "outputs": [
        {
          "output_type": "execute_result",
          "data": {
            "text/html": [
              "<div>\n",
              "<style scoped>\n",
              "    .dataframe tbody tr th:only-of-type {\n",
              "        vertical-align: middle;\n",
              "    }\n",
              "\n",
              "    .dataframe tbody tr th {\n",
              "        vertical-align: top;\n",
              "    }\n",
              "\n",
              "    .dataframe thead th {\n",
              "        text-align: right;\n",
              "    }\n",
              "</style>\n",
              "<table border=\"1\" class=\"dataframe\">\n",
              "  <thead>\n",
              "    <tr style=\"text-align: right;\">\n",
              "      <th></th>\n",
              "      <th>Open</th>\n",
              "      <th>High</th>\n",
              "      <th>Low</th>\n",
              "      <th>Close</th>\n",
              "      <th>Adj Close</th>\n",
              "      <th>Volume</th>\n",
              "      <th>MA10</th>\n",
              "      <th>MA50</th>\n",
              "      <th>Shares</th>\n",
              "      <th>Close1</th>\n",
              "      <th>Profit</th>\n",
              "      <th>wealth</th>\n",
              "    </tr>\n",
              "    <tr>\n",
              "      <th>Date</th>\n",
              "      <th></th>\n",
              "      <th></th>\n",
              "      <th></th>\n",
              "      <th></th>\n",
              "      <th></th>\n",
              "      <th></th>\n",
              "      <th></th>\n",
              "      <th></th>\n",
              "      <th></th>\n",
              "      <th></th>\n",
              "      <th></th>\n",
              "      <th></th>\n",
              "    </tr>\n",
              "  </thead>\n",
              "  <tbody>\n",
              "    <tr>\n",
              "      <th>2018-01-30</th>\n",
              "      <td>241.110001</td>\n",
              "      <td>246.419998</td>\n",
              "      <td>238.410004</td>\n",
              "      <td>242.720001</td>\n",
              "      <td>242.720001</td>\n",
              "      <td>14270800</td>\n",
              "      <td>235.692003</td>\n",
              "      <td>210.030001</td>\n",
              "      <td>1</td>\n",
              "      <td>245.800003</td>\n",
              "      <td>3.080002</td>\n",
              "      <td>177.820011</td>\n",
              "    </tr>\n",
              "    <tr>\n",
              "      <th>2018-01-31</th>\n",
              "      <td>245.770004</td>\n",
              "      <td>249.270004</td>\n",
              "      <td>244.449997</td>\n",
              "      <td>245.800003</td>\n",
              "      <td>245.800003</td>\n",
              "      <td>11964400</td>\n",
              "      <td>237.800003</td>\n",
              "      <td>210.713801</td>\n",
              "      <td>1</td>\n",
              "      <td>240.500000</td>\n",
              "      <td>-5.300003</td>\n",
              "      <td>172.520008</td>\n",
              "    </tr>\n",
              "    <tr>\n",
              "      <th>2018-02-01</th>\n",
              "      <td>238.520004</td>\n",
              "      <td>246.899994</td>\n",
              "      <td>238.059998</td>\n",
              "      <td>240.500000</td>\n",
              "      <td>240.500000</td>\n",
              "      <td>12980600</td>\n",
              "      <td>239.406003</td>\n",
              "      <td>211.296601</td>\n",
              "      <td>1</td>\n",
              "      <td>233.520004</td>\n",
              "      <td>-6.979996</td>\n",
              "      <td>165.540012</td>\n",
              "    </tr>\n",
              "    <tr>\n",
              "      <th>2018-02-02</th>\n",
              "      <td>237.000000</td>\n",
              "      <td>237.970001</td>\n",
              "      <td>231.169998</td>\n",
              "      <td>233.520004</td>\n",
              "      <td>233.520004</td>\n",
              "      <td>17961600</td>\n",
              "      <td>239.747003</td>\n",
              "      <td>211.685401</td>\n",
              "      <td>1</td>\n",
              "      <td>213.699997</td>\n",
              "      <td>-19.820007</td>\n",
              "      <td>145.720005</td>\n",
              "    </tr>\n",
              "    <tr>\n",
              "      <th>2018-02-05</th>\n",
              "      <td>227.000000</td>\n",
              "      <td>233.229996</td>\n",
              "      <td>205.000000</td>\n",
              "      <td>213.699997</td>\n",
              "      <td>213.699997</td>\n",
              "      <td>28869000</td>\n",
              "      <td>237.748003</td>\n",
              "      <td>211.638401</td>\n",
              "      <td>1</td>\n",
              "      <td>NaN</td>\n",
              "      <td>NaN</td>\n",
              "      <td>NaN</td>\n",
              "    </tr>\n",
              "  </tbody>\n",
              "</table>\n",
              "</div>"
            ],
            "text/plain": [
              "                  Open        High  ...     Profit      wealth\n",
              "Date                                ...                       \n",
              "2018-01-30  241.110001  246.419998  ...   3.080002  177.820011\n",
              "2018-01-31  245.770004  249.270004  ...  -5.300003  172.520008\n",
              "2018-02-01  238.520004  246.899994  ...  -6.979996  165.540012\n",
              "2018-02-02  237.000000  237.970001  ... -19.820007  145.720005\n",
              "2018-02-05  227.000000  233.229996  ...        NaN         NaN\n",
              "\n",
              "[5 rows x 12 columns]"
            ]
          },
          "metadata": {
            "tags": []
          },
          "execution_count": 6
        }
      ]
    },
    {
      "cell_type": "code",
      "metadata": {
        "id": "n33JsaQMrzJc",
        "colab_type": "code",
        "colab": {
          "base_uri": "https://localhost:8080/",
          "height": 310
        },
        "outputId": "894486ec-0bbe-4b12-ae0d-8422708c2073"
      },
      "source": [
        "#plot the wealth to show the growth of profit over the period\n",
        "\n",
        "fb['wealth'].plot()\n",
        "plt.title('Total money you win is {}'.format(fb.loc[fb.index[-2], 'wealth']))"
      ],
      "execution_count": 7,
      "outputs": [
        {
          "output_type": "execute_result",
          "data": {
            "text/plain": [
              "Text(0.5, 1.0, 'Total money you win is 145.72000500000001')"
            ]
          },
          "metadata": {
            "tags": []
          },
          "execution_count": 7
        },
        {
          "output_type": "display_data",
          "data": {
            "image/png": "[encoded data removed]",
            "text/plain": [
              "<Figure size 432x288 with 1 Axes>"
            ]
          },
          "metadata": {
            "tags": []
          }
        }
      ]
    },
    {
      "cell_type": "markdown",
      "metadata": {
        "id": "kMwolTZPrzJf",
        "colab_type": "text"
      },
      "source": [
        "## You can create your own simple trading strategy by copying the codes above and modify the codes accordingly using the data of Microsoft (microsoft.csv)."
      ]
    }
  ]
}