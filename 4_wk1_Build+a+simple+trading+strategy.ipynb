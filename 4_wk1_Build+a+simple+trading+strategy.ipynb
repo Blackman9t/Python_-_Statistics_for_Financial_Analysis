{
  "nbformat": 4,
  "nbformat_minor": 0,
  "metadata": {
    "colab": {
      "name": "4_wk1_Build+a+simple+trading+strategy.ipynb",
      "version": "0.3.2",
      "provenance": [],
      "collapsed_sections": [],
      "include_colab_link": true
    },
    "language_info": {
      "codemirror_mode": {
        "name": "ipython",
        "version": 3
      },
      "file_extension": ".py",
      "mimetype": "text/x-python",
      "name": "python",
      "nbconvert_exporter": "python",
      "pygments_lexer": "ipython3",
      "version": "3.6.2"
    },
    "kernelspec": {
      "display_name": "Python 3",
      "language": "python",
      "name": "python3"
    }
  },
  "cells": [
    {
      "cell_type": "markdown",
      "metadata": {
        "id": "view-in-github",
        "colab_type": "text"
      },
      "source": [
        "<a href=\"https://colab.research.google.com/github/Blackman9t/Python_-_Statistics_for_Financial_Analysis/blob/master/4_wk1_Build%2Ba%2Bsimple%2Btrading%2Bstrategy.ipynb\" target=\"_parent\"><img src=\"https://colab.research.google.com/assets/colab-badge.svg\" alt=\"Open In Colab\"/></a>"
      ]
    },
    {
      "cell_type": "markdown",
      "metadata": {
        "id": "aJ-jn-i0rzJE",
        "colab_type": "text"
      },
      "source": [
        "## Build a simple trading strategy "
      ]
    },
    {
      "cell_type": "code",
      "metadata": {
        "id": "-tz_j51YrzJG",
        "colab_type": "code",
        "colab": {}
      },
      "source": [
        "import pandas as pd\n",
        "import matplotlib.pyplot as plt\n",
        "%matplotlib inline"
      ],
      "execution_count": 0,
      "outputs": []
    },
    {
      "cell_type": "markdown",
      "metadata": {
        "id": "9v6h9dbAr85u",
        "colab_type": "text"
      },
      "source": [
        "##About The Data<br>\n",
        "Index: The index is the date for each observation.<br>\n",
        "Open: Is the opening price for this day.<br>\n",
        "High: Is the highest price for this day<br>\n",
        "Low: Is the lowest price for this day<br>\n",
        "Close: Is the closing price for this day<br>\n",
        "Adjust Close: Is a stock closing price on a given day of trading that has been adjusted to include:<br>\n",
        "Any dispution and the corporate actions that occurred at any time before the next day's open.<br>\n",
        "Volume: Is the amount of trade that occurred in a given date."
      ]
    },
    {
      "cell_type": "markdown",
      "metadata": {
        "id": "UbT0QpHhrzJL",
        "colab_type": "text"
      },
      "source": [
        "### 1. Munging the stock data and add two columns - MA10 and MA50"
      ]
    },
    {
      "cell_type": "code",
      "metadata": {
        "id": "aP7hP2QArzJM",
        "colab_type": "code",
        "outputId": "804bf641-a318-4b2c-8eea-0e0f28122576",
        "colab": {
          "base_uri": "https://localhost:8080/",
          "height": 278
        }
      },
      "source": [
        "#import FB's stock data, add two columns - MA10 and MA50\n",
        "#use dropna to remove any \"Not a Number\" data\n",
        "fb = pd.DataFrame.from_csv('https://raw.githubusercontent.com/Blackman9t/Python_-_Statistics_for_Financial_Analysis/master/facebook.csv')\n",
        "fb['MA10'] = fb['Close'].rolling(10).mean()\n",
        "fb['MA50'] = fb['Close'].rolling(50).mean()\n",
        "fb = fb.dropna()\n",
        "fb.head()"
      ],
      "execution_count": 120,
      "outputs": [
        {
          "output_type": "stream",
          "text": [
            "/usr/local/lib/python3.6/dist-packages/ipykernel_launcher.py:1: FutureWarning: from_csv is deprecated. Please use read_csv(...) instead. Note that some of the default arguments are different, so please refer to the documentation for from_csv when changing your function calls\n",
            "  \"\"\"Entry point for launching an IPython kernel.\n"
          ],
          "name": "stderr"
        },
        {
          "output_type": "execute_result",
          "data": {
            "text/html": [
              "<div>\n",
              "<style scoped>\n",
              "    .dataframe tbody tr th:only-of-type {\n",
              "        vertical-align: middle;\n",
              "    }\n",
              "\n",
              "    .dataframe tbody tr th {\n",
              "        vertical-align: top;\n",
              "    }\n",
              "\n",
              "    .dataframe thead th {\n",
              "        text-align: right;\n",
              "    }\n",
              "</style>\n",
              "<table border=\"1\" class=\"dataframe\">\n",
              "  <thead>\n",
              "    <tr style=\"text-align: right;\">\n",
              "      <th></th>\n",
              "      <th>Open</th>\n",
              "      <th>High</th>\n",
              "      <th>Low</th>\n",
              "      <th>Close</th>\n",
              "      <th>Adj Close</th>\n",
              "      <th>Volume</th>\n",
              "      <th>MA10</th>\n",
              "      <th>MA50</th>\n",
              "    </tr>\n",
              "    <tr>\n",
              "      <th>Date</th>\n",
              "      <th></th>\n",
              "      <th></th>\n",
              "      <th></th>\n",
              "      <th></th>\n",
              "      <th></th>\n",
              "      <th></th>\n",
              "      <th></th>\n",
              "      <th></th>\n",
              "    </tr>\n",
              "  </thead>\n",
              "  <tbody>\n",
              "    <tr>\n",
              "      <th>2015-03-13</th>\n",
              "      <td>22.559999</td>\n",
              "      <td>22.760000</td>\n",
              "      <td>22.250000</td>\n",
              "      <td>22.700001</td>\n",
              "      <td>22.116024</td>\n",
              "      <td>8982200</td>\n",
              "      <td>22.648</td>\n",
              "      <td>21.0174</td>\n",
              "    </tr>\n",
              "    <tr>\n",
              "      <th>2015-03-16</th>\n",
              "      <td>22.879999</td>\n",
              "      <td>23.110001</td>\n",
              "      <td>22.730000</td>\n",
              "      <td>22.969999</td>\n",
              "      <td>22.379078</td>\n",
              "      <td>5923900</td>\n",
              "      <td>22.685</td>\n",
              "      <td>21.0758</td>\n",
              "    </tr>\n",
              "    <tr>\n",
              "      <th>2015-03-17</th>\n",
              "      <td>22.920000</td>\n",
              "      <td>23.260000</td>\n",
              "      <td>22.760000</td>\n",
              "      <td>23.250000</td>\n",
              "      <td>22.651876</td>\n",
              "      <td>7497500</td>\n",
              "      <td>22.792</td>\n",
              "      <td>21.1382</td>\n",
              "    </tr>\n",
              "    <tr>\n",
              "      <th>2015-03-18</th>\n",
              "      <td>23.250000</td>\n",
              "      <td>23.370001</td>\n",
              "      <td>22.660000</td>\n",
              "      <td>22.870001</td>\n",
              "      <td>22.281652</td>\n",
              "      <td>10337600</td>\n",
              "      <td>22.836</td>\n",
              "      <td>21.1998</td>\n",
              "    </tr>\n",
              "    <tr>\n",
              "      <th>2015-03-19</th>\n",
              "      <td>22.950001</td>\n",
              "      <td>23.299999</td>\n",
              "      <td>22.780001</td>\n",
              "      <td>23.219999</td>\n",
              "      <td>22.622650</td>\n",
              "      <td>7768900</td>\n",
              "      <td>22.872</td>\n",
              "      <td>21.2804</td>\n",
              "    </tr>\n",
              "  </tbody>\n",
              "</table>\n",
              "</div>"
            ],
            "text/plain": [
              "                 Open       High        Low  ...    Volume    MA10     MA50\n",
              "Date                                         ...                           \n",
              "2015-03-13  22.559999  22.760000  22.250000  ...   8982200  22.648  21.0174\n",
              "2015-03-16  22.879999  23.110001  22.730000  ...   5923900  22.685  21.0758\n",
              "2015-03-17  22.920000  23.260000  22.760000  ...   7497500  22.792  21.1382\n",
              "2015-03-18  23.250000  23.370001  22.660000  ...  10337600  22.836  21.1998\n",
              "2015-03-19  22.950001  23.299999  22.780001  ...   7768900  22.872  21.2804\n",
              "\n",
              "[5 rows x 8 columns]"
            ]
          },
          "metadata": {
            "tags": []
          },
          "execution_count": 120
        }
      ]
    },
    {
      "cell_type": "markdown",
      "metadata": {
        "id": "OPG6D2BMrzJR",
        "colab_type": "text"
      },
      "source": [
        "### 2. Add \"Shares\" column to make decisions base on the strategy "
      ]
    },
    {
      "cell_type": "code",
      "metadata": {
        "id": "9X68IG6SrzJS",
        "colab_type": "code",
        "colab": {}
      },
      "source": [
        "#Add a new column \"Shares\", if MA10>MA50, denote as 1 (long one share of stock), otherwise, denote as 0 (do nothing)\n",
        "\n",
        "fb['Shares'] = [1 if fb.loc[ei, 'MA10']>fb.loc[ei, 'MA50'] else 0 for ei in fb.index]"
      ],
      "execution_count": 0,
      "outputs": []
    },
    {
      "cell_type": "code",
      "metadata": {
        "id": "Ep3u5_aarzJV",
        "colab_type": "code",
        "outputId": "4a728a5b-06a5-4cd2-94f0-1551d215338f",
        "colab": {
          "base_uri": "https://localhost:8080/",
          "height": 298
        }
      },
      "source": [
        "#Add a new column \"Profit\" using List Comprehension, for any rows in fb, if Shares=1, the profit is calculated as the close price of \n",
        "#tomorrow - the close price of today. Otherwise the profit is 0.\n",
        "\n",
        "#Plot a graph to show the Profit/Loss\n",
        "\n",
        "fb['Close1'] = fb['Close'].shift(-1)\n",
        "fb['Profit'] = [fb.loc[ei, 'Close1'] - fb.loc[ei, 'Close'] if fb.loc[ei, 'Shares']==1 else 0 for ei in fb.index]\n",
        "fb['Profit'].plot()\n",
        "plt.axhline(y=0, color='red')"
      ],
      "execution_count": 122,
      "outputs": [
        {
          "output_type": "execute_result",
          "data": {
            "text/plain": [
              "<matplotlib.lines.Line2D at 0x7f8398077940>"
            ]
          },
          "metadata": {
            "tags": []
          },
          "execution_count": 122
        },
        {
          "output_type": "display_data",
          "data": {
            "image/png": "[encoded data removed]",
            "text/plain": [
              "<Figure size 432x288 with 1 Axes>"
            ]
          },
          "metadata": {
            "tags": []
          }
        }
      ]
    },
    {
      "cell_type": "markdown",
      "metadata": {
        "id": "i0Olhc_CrzJY",
        "colab_type": "text"
      },
      "source": [
        "### 3. Use .cumsum() to display our model's performance if we follow the strategy "
      ]
    },
    {
      "cell_type": "code",
      "metadata": {
        "id": "OK0G8om3rzJZ",
        "colab_type": "code",
        "outputId": "84c60404-1c6a-4441-93e3-8c8ffef2c85b",
        "colab": {
          "base_uri": "https://localhost:8080/",
          "height": 225
        }
      },
      "source": [
        "#Use .cumsum() to calculate the accumulated wealth over the period\n",
        "\n",
        "fb['wealth'] = fb['Profit'].cumsum()\n",
        "fb.tail()"
      ],
      "execution_count": 123,
      "outputs": [
        {
          "output_type": "execute_result",
          "data": {
            "text/html": [
              "<div>\n",
              "<style scoped>\n",
              "    .dataframe tbody tr th:only-of-type {\n",
              "        vertical-align: middle;\n",
              "    }\n",
              "\n",
              "    .dataframe tbody tr th {\n",
              "        vertical-align: top;\n",
              "    }\n",
              "\n",
              "    .dataframe thead th {\n",
              "        text-align: right;\n",
              "    }\n",
              "</style>\n",
              "<table border=\"1\" class=\"dataframe\">\n",
              "  <thead>\n",
              "    <tr style=\"text-align: right;\">\n",
              "      <th></th>\n",
              "      <th>Open</th>\n",
              "      <th>High</th>\n",
              "      <th>Low</th>\n",
              "      <th>Close</th>\n",
              "      <th>Adj Close</th>\n",
              "      <th>Volume</th>\n",
              "      <th>MA10</th>\n",
              "      <th>MA50</th>\n",
              "      <th>Shares</th>\n",
              "      <th>Close1</th>\n",
              "      <th>Profit</th>\n",
              "      <th>wealth</th>\n",
              "    </tr>\n",
              "    <tr>\n",
              "      <th>Date</th>\n",
              "      <th></th>\n",
              "      <th></th>\n",
              "      <th></th>\n",
              "      <th></th>\n",
              "      <th></th>\n",
              "      <th></th>\n",
              "      <th></th>\n",
              "      <th></th>\n",
              "      <th></th>\n",
              "      <th></th>\n",
              "      <th></th>\n",
              "      <th></th>\n",
              "    </tr>\n",
              "  </thead>\n",
              "  <tbody>\n",
              "    <tr>\n",
              "      <th>2018-01-30</th>\n",
              "      <td>241.110001</td>\n",
              "      <td>246.419998</td>\n",
              "      <td>238.410004</td>\n",
              "      <td>242.720001</td>\n",
              "      <td>242.720001</td>\n",
              "      <td>14270800</td>\n",
              "      <td>235.692003</td>\n",
              "      <td>210.030001</td>\n",
              "      <td>1</td>\n",
              "      <td>245.800003</td>\n",
              "      <td>3.080002</td>\n",
              "      <td>177.820011</td>\n",
              "    </tr>\n",
              "    <tr>\n",
              "      <th>2018-01-31</th>\n",
              "      <td>245.770004</td>\n",
              "      <td>249.270004</td>\n",
              "      <td>244.449997</td>\n",
              "      <td>245.800003</td>\n",
              "      <td>245.800003</td>\n",
              "      <td>11964400</td>\n",
              "      <td>237.800003</td>\n",
              "      <td>210.713801</td>\n",
              "      <td>1</td>\n",
              "      <td>240.500000</td>\n",
              "      <td>-5.300003</td>\n",
              "      <td>172.520008</td>\n",
              "    </tr>\n",
              "    <tr>\n",
              "      <th>2018-02-01</th>\n",
              "      <td>238.520004</td>\n",
              "      <td>246.899994</td>\n",
              "      <td>238.059998</td>\n",
              "      <td>240.500000</td>\n",
              "      <td>240.500000</td>\n",
              "      <td>12980600</td>\n",
              "      <td>239.406003</td>\n",
              "      <td>211.296601</td>\n",
              "      <td>1</td>\n",
              "      <td>233.520004</td>\n",
              "      <td>-6.979996</td>\n",
              "      <td>165.540012</td>\n",
              "    </tr>\n",
              "    <tr>\n",
              "      <th>2018-02-02</th>\n",
              "      <td>237.000000</td>\n",
              "      <td>237.970001</td>\n",
              "      <td>231.169998</td>\n",
              "      <td>233.520004</td>\n",
              "      <td>233.520004</td>\n",
              "      <td>17961600</td>\n",
              "      <td>239.747003</td>\n",
              "      <td>211.685401</td>\n",
              "      <td>1</td>\n",
              "      <td>213.699997</td>\n",
              "      <td>-19.820007</td>\n",
              "      <td>145.720005</td>\n",
              "    </tr>\n",
              "    <tr>\n",
              "      <th>2018-02-05</th>\n",
              "      <td>227.000000</td>\n",
              "      <td>233.229996</td>\n",
              "      <td>205.000000</td>\n",
              "      <td>213.699997</td>\n",
              "      <td>213.699997</td>\n",
              "      <td>28869000</td>\n",
              "      <td>237.748003</td>\n",
              "      <td>211.638401</td>\n",
              "      <td>1</td>\n",
              "      <td>NaN</td>\n",
              "      <td>NaN</td>\n",
              "      <td>NaN</td>\n",
              "    </tr>\n",
              "  </tbody>\n",
              "</table>\n",
              "</div>"
            ],
            "text/plain": [
              "                  Open        High  ...     Profit      wealth\n",
              "Date                                ...                       \n",
              "2018-01-30  241.110001  246.419998  ...   3.080002  177.820011\n",
              "2018-01-31  245.770004  249.270004  ...  -5.300003  172.520008\n",
              "2018-02-01  238.520004  246.899994  ...  -6.979996  165.540012\n",
              "2018-02-02  237.000000  237.970001  ... -19.820007  145.720005\n",
              "2018-02-05  227.000000  233.229996  ...        NaN         NaN\n",
              "\n",
              "[5 rows x 12 columns]"
            ]
          },
          "metadata": {
            "tags": []
          },
          "execution_count": 123
        }
      ]
    },
    {
      "cell_type": "code",
      "metadata": {
        "id": "n33JsaQMrzJc",
        "colab_type": "code",
        "outputId": "a0605ee1-231e-4bed-fc50-ce2855f3e0c6",
        "colab": {
          "base_uri": "https://localhost:8080/",
          "height": 310
        }
      },
      "source": [
        "#plot the wealth to show the growth of profit over the period\n",
        "\n",
        "fb['wealth'].plot()\n",
        "plt.title('Total money you win is {}'.format(fb.loc[fb.index[-2], 'wealth']))"
      ],
      "execution_count": 124,
      "outputs": [
        {
          "output_type": "execute_result",
          "data": {
            "text/plain": [
              "Text(0.5, 1.0, 'Total money you win is 145.72000500000001')"
            ]
          },
          "metadata": {
            "tags": []
          },
          "execution_count": 124
        },
        {
          "output_type": "display_data",
          "data": {
            "image/png": "[encoded data removed]",
            "text/plain": [
              "<Figure size 432x288 with 1 Axes>"
            ]
          },
          "metadata": {
            "tags": []
          }
        }
      ]
    },
    {
      "cell_type": "markdown",
      "metadata": {
        "id": "kMwolTZPrzJf",
        "colab_type": "text"
      },
      "source": [
        "## You can create your own simple trading strategy by copying the codes above and modify the codes accordingly using the data of Microsoft (microsoft.csv)."
      ]
    },
    {
      "cell_type": "markdown",
      "metadata": {
        "id": "_eJ2Uosg0bvZ",
        "colab_type": "text"
      },
      "source": [
        "### 1. Munging the stock data"
      ]
    },
    {
      "cell_type": "code",
      "metadata": {
        "id": "_mEb-lyf0fP4",
        "colab_type": "code",
        "outputId": "1b9ddb1c-3c8c-42d6-805a-8a527d498095",
        "colab": {
          "base_uri": "https://localhost:8080/",
          "height": 278
        }
      },
      "source": [
        "#import MS's stock data, add two columns - MA10 and MA50\n",
        "#use dropna to remove any \"Not a Number\" data\n",
        "ms = pd.DataFrame.from_csv('https://raw.githubusercontent.com/Blackman9t/Python_-_Statistics_for_Financial_Analysis/master/microsoft.csv')\n",
        "ms['MA10'] = ms['Close'].rolling(10).mean()\n",
        "ms['MA50'] = ms['Close'].rolling(50).mean()\n",
        "ms = ms.dropna()\n",
        "ms.head()"
      ],
      "execution_count": 125,
      "outputs": [
        {
          "output_type": "stream",
          "text": [
            "/usr/local/lib/python3.6/dist-packages/ipykernel_launcher.py:1: FutureWarning: from_csv is deprecated. Please use read_csv(...) instead. Note that some of the default arguments are different, so please refer to the documentation for from_csv when changing your function calls\n",
            "  \"\"\"Entry point for launching an IPython kernel.\n"
          ],
          "name": "stderr"
        },
        {
          "output_type": "execute_result",
          "data": {
            "text/html": [
              "<div>\n",
              "<style scoped>\n",
              "    .dataframe tbody tr th:only-of-type {\n",
              "        vertical-align: middle;\n",
              "    }\n",
              "\n",
              "    .dataframe tbody tr th {\n",
              "        vertical-align: top;\n",
              "    }\n",
              "\n",
              "    .dataframe thead th {\n",
              "        text-align: right;\n",
              "    }\n",
              "</style>\n",
              "<table border=\"1\" class=\"dataframe\">\n",
              "  <thead>\n",
              "    <tr style=\"text-align: right;\">\n",
              "      <th></th>\n",
              "      <th>Open</th>\n",
              "      <th>High</th>\n",
              "      <th>Low</th>\n",
              "      <th>Close</th>\n",
              "      <th>Adj Close</th>\n",
              "      <th>Volume</th>\n",
              "      <th>MA10</th>\n",
              "      <th>MA50</th>\n",
              "    </tr>\n",
              "    <tr>\n",
              "      <th>Date</th>\n",
              "      <th></th>\n",
              "      <th></th>\n",
              "      <th></th>\n",
              "      <th></th>\n",
              "      <th></th>\n",
              "      <th></th>\n",
              "      <th></th>\n",
              "      <th></th>\n",
              "    </tr>\n",
              "  </thead>\n",
              "  <tbody>\n",
              "    <tr>\n",
              "      <th>2015-03-13</th>\n",
              "      <td>40.700001</td>\n",
              "      <td>41.470001</td>\n",
              "      <td>40.610001</td>\n",
              "      <td>41.380001</td>\n",
              "      <td>38.443489</td>\n",
              "      <td>58007700</td>\n",
              "      <td>42.495</td>\n",
              "      <td>44.0034</td>\n",
              "    </tr>\n",
              "    <tr>\n",
              "      <th>2015-03-16</th>\n",
              "      <td>41.470001</td>\n",
              "      <td>41.639999</td>\n",
              "      <td>41.279999</td>\n",
              "      <td>41.560001</td>\n",
              "      <td>38.610714</td>\n",
              "      <td>35273500</td>\n",
              "      <td>42.263</td>\n",
              "      <td>43.9056</td>\n",
              "    </tr>\n",
              "    <tr>\n",
              "      <th>2015-03-17</th>\n",
              "      <td>41.369999</td>\n",
              "      <td>41.830002</td>\n",
              "      <td>41.150002</td>\n",
              "      <td>41.700001</td>\n",
              "      <td>38.740784</td>\n",
              "      <td>31587200</td>\n",
              "      <td>42.105</td>\n",
              "      <td>43.8044</td>\n",
              "    </tr>\n",
              "    <tr>\n",
              "      <th>2015-03-18</th>\n",
              "      <td>41.430000</td>\n",
              "      <td>42.830002</td>\n",
              "      <td>41.330002</td>\n",
              "      <td>42.500000</td>\n",
              "      <td>39.484009</td>\n",
              "      <td>43971800</td>\n",
              "      <td>42.049</td>\n",
              "      <td>43.7278</td>\n",
              "    </tr>\n",
              "    <tr>\n",
              "      <th>2015-03-19</th>\n",
              "      <td>42.259998</td>\n",
              "      <td>42.590000</td>\n",
              "      <td>42.220001</td>\n",
              "      <td>42.290001</td>\n",
              "      <td>39.288918</td>\n",
              "      <td>33879100</td>\n",
              "      <td>41.967</td>\n",
              "      <td>43.6606</td>\n",
              "    </tr>\n",
              "  </tbody>\n",
              "</table>\n",
              "</div>"
            ],
            "text/plain": [
              "                 Open       High        Low  ...    Volume    MA10     MA50\n",
              "Date                                         ...                           \n",
              "2015-03-13  40.700001  41.470001  40.610001  ...  58007700  42.495  44.0034\n",
              "2015-03-16  41.470001  41.639999  41.279999  ...  35273500  42.263  43.9056\n",
              "2015-03-17  41.369999  41.830002  41.150002  ...  31587200  42.105  43.8044\n",
              "2015-03-18  41.430000  42.830002  41.330002  ...  43971800  42.049  43.7278\n",
              "2015-03-19  42.259998  42.590000  42.220001  ...  33879100  41.967  43.6606\n",
              "\n",
              "[5 rows x 8 columns]"
            ]
          },
          "metadata": {
            "tags": []
          },
          "execution_count": 125
        }
      ]
    },
    {
      "cell_type": "markdown",
      "metadata": {
        "id": "labkPvD-1Fce",
        "colab_type": "text"
      },
      "source": [
        "### 2. Add shares column to make decisions based on the strategy"
      ]
    },
    {
      "cell_type": "code",
      "metadata": {
        "id": "7cNaEYcg1K-4",
        "colab_type": "code",
        "outputId": "2b8fdafd-0122-4e6b-8185-42f858f87b8c",
        "colab": {
          "base_uri": "https://localhost:8080/",
          "height": 166
        }
      },
      "source": [
        "ms['Shares'] = [1 if ms.loc[ei, 'MA10']> ms.loc[ei, 'MA50'] else 0 for ei in ms.index]\n",
        "ms.head(3)"
      ],
      "execution_count": 126,
      "outputs": [
        {
          "output_type": "execute_result",
          "data": {
            "text/html": [
              "<div>\n",
              "<style scoped>\n",
              "    .dataframe tbody tr th:only-of-type {\n",
              "        vertical-align: middle;\n",
              "    }\n",
              "\n",
              "    .dataframe tbody tr th {\n",
              "        vertical-align: top;\n",
              "    }\n",
              "\n",
              "    .dataframe thead th {\n",
              "        text-align: right;\n",
              "    }\n",
              "</style>\n",
              "<table border=\"1\" class=\"dataframe\">\n",
              "  <thead>\n",
              "    <tr style=\"text-align: right;\">\n",
              "      <th></th>\n",
              "      <th>Open</th>\n",
              "      <th>High</th>\n",
              "      <th>Low</th>\n",
              "      <th>Close</th>\n",
              "      <th>Adj Close</th>\n",
              "      <th>Volume</th>\n",
              "      <th>MA10</th>\n",
              "      <th>MA50</th>\n",
              "      <th>Shares</th>\n",
              "    </tr>\n",
              "    <tr>\n",
              "      <th>Date</th>\n",
              "      <th></th>\n",
              "      <th></th>\n",
              "      <th></th>\n",
              "      <th></th>\n",
              "      <th></th>\n",
              "      <th></th>\n",
              "      <th></th>\n",
              "      <th></th>\n",
              "      <th></th>\n",
              "    </tr>\n",
              "  </thead>\n",
              "  <tbody>\n",
              "    <tr>\n",
              "      <th>2015-03-13</th>\n",
              "      <td>40.700001</td>\n",
              "      <td>41.470001</td>\n",
              "      <td>40.610001</td>\n",
              "      <td>41.380001</td>\n",
              "      <td>38.443489</td>\n",
              "      <td>58007700</td>\n",
              "      <td>42.495</td>\n",
              "      <td>44.0034</td>\n",
              "      <td>0</td>\n",
              "    </tr>\n",
              "    <tr>\n",
              "      <th>2015-03-16</th>\n",
              "      <td>41.470001</td>\n",
              "      <td>41.639999</td>\n",
              "      <td>41.279999</td>\n",
              "      <td>41.560001</td>\n",
              "      <td>38.610714</td>\n",
              "      <td>35273500</td>\n",
              "      <td>42.263</td>\n",
              "      <td>43.9056</td>\n",
              "      <td>0</td>\n",
              "    </tr>\n",
              "    <tr>\n",
              "      <th>2015-03-17</th>\n",
              "      <td>41.369999</td>\n",
              "      <td>41.830002</td>\n",
              "      <td>41.150002</td>\n",
              "      <td>41.700001</td>\n",
              "      <td>38.740784</td>\n",
              "      <td>31587200</td>\n",
              "      <td>42.105</td>\n",
              "      <td>43.8044</td>\n",
              "      <td>0</td>\n",
              "    </tr>\n",
              "  </tbody>\n",
              "</table>\n",
              "</div>"
            ],
            "text/plain": [
              "                 Open       High        Low  ...    MA10     MA50  Shares\n",
              "Date                                         ...                         \n",
              "2015-03-13  40.700001  41.470001  40.610001  ...  42.495  44.0034       0\n",
              "2015-03-16  41.470001  41.639999  41.279999  ...  42.263  43.9056       0\n",
              "2015-03-17  41.369999  41.830002  41.150002  ...  42.105  43.8044       0\n",
              "\n",
              "[3 rows x 9 columns]"
            ]
          },
          "metadata": {
            "tags": []
          },
          "execution_count": 126
        }
      ]
    },
    {
      "cell_type": "code",
      "metadata": {
        "id": "VH1lTVqU2dcl",
        "colab_type": "code",
        "outputId": "8a22eae1-53bd-4aba-c0a7-04787cf44982",
        "colab": {
          "base_uri": "https://localhost:8080/",
          "height": 393
        }
      },
      "source": [
        "#Add a new column \"Profit\" using List Comprehension, for any rows in fb, if Shares=1, the profit is calculated as the close price of \n",
        "#tomorrow - the close price of today. Otherwise the profit is 0.\n",
        "\n",
        "#Plot a graph to show the Profit/Loss\n",
        "\n",
        "ms['Close1'] = ms['Close'].shift(-1)\n",
        "\n",
        "ms['Profit'] = [ms.loc[ei, 'Close1'] - ms.loc[ei, 'Close'] if ms.loc[ei, 'Shares'] == 1 else 0 for ei in ms.index]\n",
        "ms.Profit.plot(figsize=(8, 6))\n",
        "plt.xticks(color='skyblue')\n",
        "plt.yticks(color='skyblue')\n",
        "plt.xlabel('Date', color='skyblue')\n",
        "plt.title('Line plot of Profit for Microsoft 2015 - 2018', color='skyblue', fontsize=16)\n",
        "plt.axhline(y=0, color='r', linewidth=2.5)\n",
        "plt.show()"
      ],
      "execution_count": 127,
      "outputs": [
        {
          "output_type": "display_data",
          "data": {
            "image/png": "[encoded data removed]",
            "text/plain": [
              "<Figure size 576x432 with 1 Axes>"
            ]
          },
          "metadata": {
            "tags": []
          }
        }
      ]
    },
    {
      "cell_type": "markdown",
      "metadata": {
        "id": "ZooxhX0H7099",
        "colab_type": "text"
      },
      "source": [
        "### Adding the same profit column as above, now named Profit2, using apply and lambda function... sweet!"
      ]
    },
    {
      "cell_type": "code",
      "metadata": {
        "id": "FfFiVBLv48cp",
        "colab_type": "code",
        "colab": {}
      },
      "source": [
        "ms['Profit2'] = ms.apply(lambda x: x['Close1'] - x['Close'] if x['Shares'] == 1 else 0, axis=1)"
      ],
      "execution_count": 0,
      "outputs": []
    },
    {
      "cell_type": "code",
      "metadata": {
        "id": "F53Npix_8Cr8",
        "colab_type": "code",
        "colab": {
          "base_uri": "https://localhost:8080/",
          "height": 225
        },
        "outputId": "3d1fb1fc-a98b-4c34-984b-dd86c78d1e33"
      },
      "source": [
        "ms.tail()"
      ],
      "execution_count": 129,
      "outputs": [
        {
          "output_type": "execute_result",
          "data": {
            "text/html": [
              "<div>\n",
              "<style scoped>\n",
              "    .dataframe tbody tr th:only-of-type {\n",
              "        vertical-align: middle;\n",
              "    }\n",
              "\n",
              "    .dataframe tbody tr th {\n",
              "        vertical-align: top;\n",
              "    }\n",
              "\n",
              "    .dataframe thead th {\n",
              "        text-align: right;\n",
              "    }\n",
              "</style>\n",
              "<table border=\"1\" class=\"dataframe\">\n",
              "  <thead>\n",
              "    <tr style=\"text-align: right;\">\n",
              "      <th></th>\n",
              "      <th>Open</th>\n",
              "      <th>High</th>\n",
              "      <th>Low</th>\n",
              "      <th>Close</th>\n",
              "      <th>Adj Close</th>\n",
              "      <th>Volume</th>\n",
              "      <th>MA10</th>\n",
              "      <th>MA50</th>\n",
              "      <th>Shares</th>\n",
              "      <th>Close1</th>\n",
              "      <th>Profit</th>\n",
              "      <th>Profit2</th>\n",
              "    </tr>\n",
              "    <tr>\n",
              "      <th>Date</th>\n",
              "      <th></th>\n",
              "      <th></th>\n",
              "      <th></th>\n",
              "      <th></th>\n",
              "      <th></th>\n",
              "      <th></th>\n",
              "      <th></th>\n",
              "      <th></th>\n",
              "      <th></th>\n",
              "      <th></th>\n",
              "      <th></th>\n",
              "      <th></th>\n",
              "    </tr>\n",
              "  </thead>\n",
              "  <tbody>\n",
              "    <tr>\n",
              "      <th>2018-01-30</th>\n",
              "      <td>93.300003</td>\n",
              "      <td>93.660004</td>\n",
              "      <td>92.099998</td>\n",
              "      <td>92.739998</td>\n",
              "      <td>92.306389</td>\n",
              "      <td>38635100</td>\n",
              "      <td>91.862</td>\n",
              "      <td>86.5244</td>\n",
              "      <td>1</td>\n",
              "      <td>95.010002</td>\n",
              "      <td>2.270004</td>\n",
              "      <td>2.270004</td>\n",
              "    </tr>\n",
              "    <tr>\n",
              "      <th>2018-01-31</th>\n",
              "      <td>93.750000</td>\n",
              "      <td>95.400002</td>\n",
              "      <td>93.510002</td>\n",
              "      <td>95.010002</td>\n",
              "      <td>94.565781</td>\n",
              "      <td>48756300</td>\n",
              "      <td>92.349</td>\n",
              "      <td>86.7606</td>\n",
              "      <td>1</td>\n",
              "      <td>94.260002</td>\n",
              "      <td>-0.750000</td>\n",
              "      <td>-0.750000</td>\n",
              "    </tr>\n",
              "    <tr>\n",
              "      <th>2018-02-01</th>\n",
              "      <td>94.790001</td>\n",
              "      <td>96.070000</td>\n",
              "      <td>93.580002</td>\n",
              "      <td>94.260002</td>\n",
              "      <td>93.819290</td>\n",
              "      <td>47227900</td>\n",
              "      <td>92.765</td>\n",
              "      <td>86.9978</td>\n",
              "      <td>1</td>\n",
              "      <td>91.779999</td>\n",
              "      <td>-2.480003</td>\n",
              "      <td>-2.480003</td>\n",
              "    </tr>\n",
              "    <tr>\n",
              "      <th>2018-02-02</th>\n",
              "      <td>93.639999</td>\n",
              "      <td>93.970001</td>\n",
              "      <td>91.500000</td>\n",
              "      <td>91.779999</td>\n",
              "      <td>91.350883</td>\n",
              "      <td>47867800</td>\n",
              "      <td>92.943</td>\n",
              "      <td>87.1828</td>\n",
              "      <td>1</td>\n",
              "      <td>88.000000</td>\n",
              "      <td>-3.779999</td>\n",
              "      <td>-3.779999</td>\n",
              "    </tr>\n",
              "    <tr>\n",
              "      <th>2018-02-05</th>\n",
              "      <td>90.559998</td>\n",
              "      <td>93.239998</td>\n",
              "      <td>88.000000</td>\n",
              "      <td>88.000000</td>\n",
              "      <td>87.588554</td>\n",
              "      <td>51031500</td>\n",
              "      <td>92.582</td>\n",
              "      <td>87.2684</td>\n",
              "      <td>1</td>\n",
              "      <td>NaN</td>\n",
              "      <td>NaN</td>\n",
              "      <td>NaN</td>\n",
              "    </tr>\n",
              "  </tbody>\n",
              "</table>\n",
              "</div>"
            ],
            "text/plain": [
              "                 Open       High        Low  ...     Close1    Profit   Profit2\n",
              "Date                                         ...                               \n",
              "2018-01-30  93.300003  93.660004  92.099998  ...  95.010002  2.270004  2.270004\n",
              "2018-01-31  93.750000  95.400002  93.510002  ...  94.260002 -0.750000 -0.750000\n",
              "2018-02-01  94.790001  96.070000  93.580002  ...  91.779999 -2.480003 -2.480003\n",
              "2018-02-02  93.639999  93.970001  91.500000  ...  88.000000 -3.779999 -3.779999\n",
              "2018-02-05  90.559998  93.239998  88.000000  ...        NaN       NaN       NaN\n",
              "\n",
              "[5 rows x 12 columns]"
            ]
          },
          "metadata": {
            "tags": []
          },
          "execution_count": 129
        }
      ]
    },
    {
      "cell_type": "markdown",
      "metadata": {
        "id": "XkegDpmEonwN",
        "colab_type": "text"
      },
      "source": [
        "###  kill notebook to free up space after use by running code cell below"
      ]
    },
    {
      "cell_type": "code",
      "metadata": {
        "id": "zao55wm93lN4",
        "colab_type": "code",
        "colab": {}
      },
      "source": [
        "#import os, signal\n",
        "#os.kill(os.getpid(), signal.SIGKILL)"
      ],
      "execution_count": 0,
      "outputs": []
    }
  ]
}