{
  "nbformat": 4,
  "nbformat_minor": 0,
  "metadata": {
    "colab": {
      "name": "wk2_3_Models+of+Stock+Return.ipynb",
      "version": "0.3.2",
      "provenance": [],
      "include_colab_link": true
    },
    "language_info": {
      "codemirror_mode": {
        "name": "ipython",
        "version": 3
      },
      "file_extension": ".py",
      "mimetype": "text/x-python",
      "name": "python",
      "nbconvert_exporter": "python",
      "pygments_lexer": "ipython3",
      "version": "3.6.2"
    },
    "kernelspec": {
      "display_name": "Python 3",
      "language": "python",
      "name": "python3"
    }
  },
  "cells": [
    {
      "cell_type": "markdown",
      "metadata": {
        "id": "view-in-github",
        "colab_type": "text"
      },
      "source": [
        "<a href=\"https://colab.research.google.com/github/Blackman9t/Python_-_Statistics_for_Financial_Analysis/blob/master/wk2_3_Models%2Bof%2BStock%2BReturn.ipynb\" target=\"_parent\"><img src=\"https://colab.research.google.com/assets/colab-badge.svg\" alt=\"Open In Colab\"/></a>"
      ]
    },
    {
      "cell_type": "markdown",
      "metadata": {
        "id": "vI1ts3wTvUhW",
        "colab_type": "text"
      },
      "source": [
        "## Models of Stock Return"
      ]
    },
    {
      "cell_type": "code",
      "metadata": {
        "id": "-_YZmjY3vUhX",
        "colab_type": "code",
        "colab": {}
      },
      "source": [
        "import pandas as pd\n",
        "import numpy as np\n",
        "import matplotlib.pyplot as plt\n",
        "% matplotlib inline"
      ],
      "execution_count": 0,
      "outputs": []
    },
    {
      "cell_type": "code",
      "metadata": {
        "id": "k7vtOuN0vUhc",
        "colab_type": "code",
        "outputId": "2bbb1074-fac2-44db-c2cd-f04d3020b1fd",
        "colab": {
          "base_uri": "https://localhost:8080/",
          "height": 278
        }
      },
      "source": [
        "ms = pd.DataFrame.from_csv('https://raw.githubusercontent.com/Blackman9t/Python_-_Statistics_for_Financial_Analysis/master/microsoft.csv')\n",
        "ms.head()"
      ],
      "execution_count": 0,
      "outputs": [
        {
          "output_type": "stream",
          "text": [
            "/usr/local/lib/python3.6/dist-packages/ipykernel_launcher.py:1: FutureWarning: from_csv is deprecated. Please use read_csv(...) instead. Note that some of the default arguments are different, so please refer to the documentation for from_csv when changing your function calls\n",
            "  \"\"\"Entry point for launching an IPython kernel.\n"
          ],
          "name": "stderr"
        },
        {
          "output_type": "execute_result",
          "data": {
            "text/html": [
              "<div>\n",
              "<style scoped>\n",
              "    .dataframe tbody tr th:only-of-type {\n",
              "        vertical-align: middle;\n",
              "    }\n",
              "\n",
              "    .dataframe tbody tr th {\n",
              "        vertical-align: top;\n",
              "    }\n",
              "\n",
              "    .dataframe thead th {\n",
              "        text-align: right;\n",
              "    }\n",
              "</style>\n",
              "<table border=\"1\" class=\"dataframe\">\n",
              "  <thead>\n",
              "    <tr style=\"text-align: right;\">\n",
              "      <th></th>\n",
              "      <th>Open</th>\n",
              "      <th>High</th>\n",
              "      <th>Low</th>\n",
              "      <th>Close</th>\n",
              "      <th>Adj Close</th>\n",
              "      <th>Volume</th>\n",
              "    </tr>\n",
              "    <tr>\n",
              "      <th>Date</th>\n",
              "      <th></th>\n",
              "      <th></th>\n",
              "      <th></th>\n",
              "      <th></th>\n",
              "      <th></th>\n",
              "      <th></th>\n",
              "    </tr>\n",
              "  </thead>\n",
              "  <tbody>\n",
              "    <tr>\n",
              "      <th>2014-12-31</th>\n",
              "      <td>46.730000</td>\n",
              "      <td>47.439999</td>\n",
              "      <td>46.450001</td>\n",
              "      <td>46.450001</td>\n",
              "      <td>42.848763</td>\n",
              "      <td>21552500</td>\n",
              "    </tr>\n",
              "    <tr>\n",
              "      <th>2015-01-02</th>\n",
              "      <td>46.660000</td>\n",
              "      <td>47.419998</td>\n",
              "      <td>46.540001</td>\n",
              "      <td>46.759998</td>\n",
              "      <td>43.134731</td>\n",
              "      <td>27913900</td>\n",
              "    </tr>\n",
              "    <tr>\n",
              "      <th>2015-01-05</th>\n",
              "      <td>46.369999</td>\n",
              "      <td>46.730000</td>\n",
              "      <td>46.250000</td>\n",
              "      <td>46.330002</td>\n",
              "      <td>42.738068</td>\n",
              "      <td>39673900</td>\n",
              "    </tr>\n",
              "    <tr>\n",
              "      <th>2015-01-06</th>\n",
              "      <td>46.380001</td>\n",
              "      <td>46.750000</td>\n",
              "      <td>45.540001</td>\n",
              "      <td>45.650002</td>\n",
              "      <td>42.110783</td>\n",
              "      <td>36447900</td>\n",
              "    </tr>\n",
              "    <tr>\n",
              "      <th>2015-01-07</th>\n",
              "      <td>45.980000</td>\n",
              "      <td>46.459999</td>\n",
              "      <td>45.490002</td>\n",
              "      <td>46.230000</td>\n",
              "      <td>42.645817</td>\n",
              "      <td>29114100</td>\n",
              "    </tr>\n",
              "  </tbody>\n",
              "</table>\n",
              "</div>"
            ],
            "text/plain": [
              "                 Open       High        Low      Close  Adj Close    Volume\n",
              "Date                                                                       \n",
              "2014-12-31  46.730000  47.439999  46.450001  46.450001  42.848763  21552500\n",
              "2015-01-02  46.660000  47.419998  46.540001  46.759998  43.134731  27913900\n",
              "2015-01-05  46.369999  46.730000  46.250000  46.330002  42.738068  39673900\n",
              "2015-01-06  46.380001  46.750000  45.540001  45.650002  42.110783  36447900\n",
              "2015-01-07  45.980000  46.459999  45.490002  46.230000  42.645817  29114100"
            ]
          },
          "metadata": {
            "tags": []
          },
          "execution_count": 2
        }
      ]
    },
    {
      "cell_type": "markdown",
      "metadata": {
        "id": "v2uwbftuvUhh",
        "colab_type": "text"
      },
      "source": [
        "## Distribution of Log return"
      ]
    },
    {
      "cell_type": "code",
      "metadata": {
        "id": "R6UgZzF6vUhi",
        "colab_type": "code",
        "colab": {}
      },
      "source": [
        "# let play around with ms data by calculating the log daily return\n",
        "ms['LogReturn'] = np.log(ms['Close']).shift(-1) - np.log(ms['Close'])"
      ],
      "execution_count": 0,
      "outputs": []
    },
    {
      "cell_type": "code",
      "metadata": {
        "id": "vazfhAQ-vUhl",
        "colab_type": "code",
        "outputId": "46e523c6-356a-4d8a-fad2-6b5b6d317efb",
        "colab": {
          "base_uri": "https://localhost:8080/",
          "height": 486
        }
      },
      "source": [
        "# Plot a histogram to show the distribution of log return of Microsoft's stock. \n",
        "# You can see it is very close to a normal distribution\n",
        "from scipy.stats import norm\n",
        "mu = ms['LogReturn'].mean()\n",
        "sigma = ms['LogReturn'].std(ddof=1)\n",
        "\n",
        "density = pd.DataFrame()\n",
        "density['x'] = np.arange(ms['LogReturn'].min()-0.01, ms['LogReturn'].max()+0.01, 0.001)\n",
        "density['pdf'] = norm.pdf(density['x'], mu, sigma)\n",
        "\n",
        "ms['LogReturn'].hist(bins=50, figsize=(15, 8))\n",
        "plt.plot(density['x'], density['pdf'], color='red')\n",
        "plt.show()"
      ],
      "execution_count": 0,
      "outputs": [
        {
          "output_type": "display_data",
          "data": {
            "image/png": "[encoded data removed]",
            "text/plain": [
              "<Figure size 1080x576 with 1 Axes>"
            ]
          },
          "metadata": {
            "tags": []
          }
        }
      ]
    },
    {
      "cell_type": "markdown",
      "metadata": {
        "id": "NKdmBPWQvUho",
        "colab_type": "text"
      },
      "source": [
        "## Calculate the probability of the stock price will drop over a certain percentage in a day"
      ]
    },
    {
      "cell_type": "code",
      "metadata": {
        "id": "8aRg8J4nvUhp",
        "colab_type": "code",
        "outputId": "6b44e445-f4e4-4b8d-d551-1a9468892fe3",
        "colab": {
          "base_uri": "https://localhost:8080/",
          "height": 34
        }
      },
      "source": [
        "# probability that the stock price of microsoft will drop over 5% in a day\n",
        "prob_return1 = norm.cdf(-0.05, mu, sigma)\n",
        "print('The Probability is ', prob_return1)"
      ],
      "execution_count": 0,
      "outputs": [
        {
          "output_type": "stream",
          "text": [
            "The Probability is  0.00017118482608677817\n"
          ],
          "name": "stdout"
        }
      ]
    },
    {
      "cell_type": "code",
      "metadata": {
        "id": "FgdOwP4nvUhs",
        "colab_type": "code",
        "outputId": "cfa06f40-57fd-4337-9f4f-f63eac4bd94c",
        "colab": {
          "base_uri": "https://localhost:8080/",
          "height": 34
        }
      },
      "source": [
        "# Now is your turn, calculate the probability that the stock price of microsoft will drop over 10% in a day\n",
        "prob_return1 = None\n",
        "print('The Probability is ', prob_return1)"
      ],
      "execution_count": 0,
      "outputs": [
        {
          "output_type": "stream",
          "text": [
            "The Probability is  None\n"
          ],
          "name": "stdout"
        }
      ]
    },
    {
      "cell_type": "markdown",
      "metadata": {
        "id": "GZVZN06CvUhv",
        "colab_type": "text"
      },
      "source": [
        "**Expected Output: ** The Probability is  6.05677563486e-13"
      ]
    },
    {
      "cell_type": "markdown",
      "metadata": {
        "id": "oP3QGTp5vUhw",
        "colab_type": "text"
      },
      "source": [
        "## Calculate the probability of the stock price will drop over a certain percentage in a year"
      ]
    },
    {
      "cell_type": "code",
      "metadata": {
        "id": "YNvIQRaRvUhx",
        "colab_type": "code",
        "outputId": "f3ca00ec-05dd-45ca-b656-24c88a194338",
        "colab": {
          "base_uri": "https://localhost:8080/",
          "height": 34
        }
      },
      "source": [
        "# drop over 40% in 220 days\n",
        "mu220 = 220*mu\n",
        "sigma220 = (220**0.5) * sigma\n",
        "print('The probability of dropping over 40% in 220 days is ', norm.cdf(-0.4, mu220, sigma220))"
      ],
      "execution_count": 0,
      "outputs": [
        {
          "output_type": "stream",
          "text": [
            "The probability of dropping over 40% in 220 days is  0.002912363313330548\n"
          ],
          "name": "stdout"
        }
      ]
    },
    {
      "cell_type": "code",
      "metadata": {
        "id": "QryqwVervUh0",
        "colab_type": "code",
        "outputId": "0086650a-aac6-4c36-e68a-53ac8da73609",
        "colab": {
          "base_uri": "https://localhost:8080/",
          "height": 34
        }
      },
      "source": [
        "# drop over 20% in 220 days\n",
        "mu220 = 220*mu\n",
        "sigma220 = (220**0.5) * sigma\n",
        "drop20 = None\n",
        "print('The probability of dropping over 20% in 220 days is ', drop20)"
      ],
      "execution_count": 0,
      "outputs": [
        {
          "output_type": "stream",
          "text": [
            "The probability of dropping over 20% in 220 days is  None\n"
          ],
          "name": "stdout"
        }
      ]
    },
    {
      "cell_type": "markdown",
      "metadata": {
        "id": "pMT2P6uevUh3",
        "colab_type": "text"
      },
      "source": [
        "**Expected Output: ** The probability of dropping over 20% in 220 days is  0.0353523772749"
      ]
    },
    {
      "cell_type": "markdown",
      "metadata": {
        "id": "-uotxoaNvUh4",
        "colab_type": "text"
      },
      "source": [
        "## Calculate Value at risk (VaR)"
      ]
    },
    {
      "cell_type": "code",
      "metadata": {
        "id": "v3Pr8-QBvUh5",
        "colab_type": "code",
        "outputId": "271f2e26-4504-42db-a0cd-bd9f740b96da",
        "colab": {
          "base_uri": "https://localhost:8080/",
          "height": 34
        }
      },
      "source": [
        "# Value at risk(VaR)\n",
        "VaR = norm.ppf(0.05, mu, sigma)\n",
        "print('Single day value at risk ', VaR)"
      ],
      "execution_count": 0,
      "outputs": [
        {
          "output_type": "stream",
          "text": [
            "Single day value at risk  -0.022523362407065\n"
          ],
          "name": "stdout"
        }
      ]
    },
    {
      "cell_type": "code",
      "metadata": {
        "id": "bUhhZyZ6vUh8",
        "colab_type": "code",
        "outputId": "134470b7-4d0a-4b4a-ff81-1e8bfa2497e0",
        "colab": {
          "base_uri": "https://localhost:8080/",
          "height": 50
        }
      },
      "source": [
        "# Quatile \n",
        "# 5% quantile\n",
        "print('5% quantile ', norm.ppf(0.05, mu, sigma))\n",
        "# 95% quantile\n",
        "print('95% quantile ', norm.ppf(0.95, mu, sigma))"
      ],
      "execution_count": 0,
      "outputs": [
        {
          "output_type": "stream",
          "text": [
            "5% quantile  -0.022523362407065\n",
            "95% quantile  0.024163825379311034\n"
          ],
          "name": "stdout"
        }
      ]
    },
    {
      "cell_type": "code",
      "metadata": {
        "id": "S2zEBWTlvUh_",
        "colab_type": "code",
        "outputId": "8f21ff7b-d015-44c2-bfce-ccdde154de86",
        "colab": {
          "base_uri": "https://localhost:8080/",
          "height": 50
        }
      },
      "source": [
        "# This is your turn to calcuate the 25% and 75% Quantile of the return\n",
        "# 25% quantile\n",
        "q25 = None\n",
        "print('25% quantile ', q25)\n",
        "# 75% quantile\n",
        "q75 = None \n",
        "print('75% quantile ', q75)"
      ],
      "execution_count": 0,
      "outputs": [
        {
          "output_type": "stream",
          "text": [
            "25% quantile  None\n",
            "75% quantile  None\n"
          ],
          "name": "stdout"
        }
      ]
    },
    {
      "cell_type": "markdown",
      "metadata": {
        "id": "8fDqR_mMvUiD",
        "colab_type": "text"
      },
      "source": [
        "**Expected Output: ** 25% quantile  -0.00875205783841\n",
        "75% quantile  0.0103925208107"
      ]
    }
  ]
}